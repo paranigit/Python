{
 "cells": [
  {
   "cell_type": "markdown",
   "id": "36f52da0",
   "metadata": {},
   "source": [
    "## Manual Neural Network\n",
    "\n",
    "This is a demostration of simple Articial Neural Networks (ANN) without any special packages like TensorFlow. Here a simple ANN compoments are build manually for the purpose of understanding."
   ]
  },
  {
   "cell_type": "markdown",
   "id": "c7c17a4f",
   "metadata": {},
   "source": [
    "### Operation Classes\n",
    "* Input Nodes\n",
    "* Output Nodes\n",
    "* Global Default Graph Variable\n",
    "* Compute\n",
    "    * Overwritten by extended classes"
   ]
  },
  {
   "cell_type": "code",
   "execution_count": 1,
   "id": "0496e700",
   "metadata": {},
   "outputs": [],
   "source": [
    "import numpy as np"
   ]
  },
  {
   "cell_type": "code",
   "execution_count": 2,
   "id": "c226242d",
   "metadata": {},
   "outputs": [],
   "source": [
    "class Operation():\n",
    "    \n",
    "    def __init__(self, input_nodes=[]):\n",
    "        \n",
    "        self.input_nodes = input_nodes\n",
    "        self.output_nodes = []\n",
    "        \n",
    "        for node in input_nodes:\n",
    "            print(node)\n",
    "            self.output_nodes.append(self)\n",
    "            \n",
    "        _default_graph.operations.append(self)\n",
    "            \n",
    "    def compute(self):\n",
    "        pass\n",
    "    "
   ]
  },
  {
   "cell_type": "code",
   "execution_count": 3,
   "id": "56775998",
   "metadata": {},
   "outputs": [],
   "source": [
    "class add(Operation):\n",
    "    \n",
    "    def __init__(self, x, y):\n",
    "        \n",
    "        super().__init__([x, y])\n",
    "        \n",
    "    def compute(self, x_var, y_var):\n",
    "        self.inputs = [x_var, y_var]\n",
    "        return x_var + y_var"
   ]
  },
  {
   "cell_type": "code",
   "execution_count": 4,
   "id": "20d94140",
   "metadata": {},
   "outputs": [],
   "source": [
    "class multiply(Operation):\n",
    "    \n",
    "    def __init__(self, x, y):\n",
    "        \n",
    "        super().__init__([x, y])\n",
    "        \n",
    "    def compute(self, x_var, y_var):\n",
    "        self.inputs = [x_var, y_var]\n",
    "        return x_var * y_var"
   ]
  },
  {
   "cell_type": "code",
   "execution_count": 5,
   "id": "f2ec4e11",
   "metadata": {},
   "outputs": [],
   "source": [
    "class matrixMultiply(Operation):\n",
    "    \n",
    "    def __init__(self, x, y):\n",
    "        \n",
    "        super().__init__([x, y])\n",
    "        \n",
    "    def compute(self, x_var, y_var):\n",
    "        self.inputs = [x_var, y_var]\n",
    "        return x_var.dot(y_var)"
   ]
  },
  {
   "cell_type": "markdown",
   "id": "4ef3d10d",
   "metadata": {},
   "source": [
    "### Variables, Placeholders & Graphs Classes\n",
    "\n",
    "* Placeholder - An Empty Node to hold output value.\n",
    "* Variables - Changeable parameter of Graph\n",
    "* Graph - Global Variable connecting variables & placeholders to Operations"
   ]
  },
  {
   "cell_type": "code",
   "execution_count": 6,
   "id": "ac5d97cc",
   "metadata": {},
   "outputs": [],
   "source": [
    "class Placeholder():\n",
    "    \n",
    "    def __init__(self):\n",
    "        \n",
    "        self.output_nodes = []\n",
    "        \n",
    "        _default_graph.placeholders.append(self)"
   ]
  },
  {
   "cell_type": "code",
   "execution_count": 7,
   "id": "f78ba8cd",
   "metadata": {},
   "outputs": [],
   "source": [
    "class Variable():\n",
    "    \n",
    "    def __init__(self, init_val=None):\n",
    "        \n",
    "        self.value = init_val\n",
    "        self.output_nodes = []\n",
    "        \n",
    "        _default_graph.variables.append(self)"
   ]
  },
  {
   "cell_type": "code",
   "execution_count": 8,
   "id": "67bd44d3",
   "metadata": {},
   "outputs": [],
   "source": [
    "# Graph class is basically connecting variables and placeholders into operations they belong to..\n",
    "class Graph():\n",
    "    \n",
    "    def __init__(self):\n",
    "        \n",
    "        self.operations = []\n",
    "        self.placeholders = []\n",
    "        self.variables = []\n",
    "        \n",
    "    def set_as_default(self):\n",
    "        \n",
    "        global _default_graph\n",
    "        _default_graph = self"
   ]
  },
  {
   "cell_type": "markdown",
   "id": "c320dc79",
   "metadata": {},
   "source": [
    "Lets try to create a Graph to implement the following now.\n",
    "\n",
    "z = Wx + b\n",
    "\n",
    "here W = 10, b = 1 and x - placeholder"
   ]
  },
  {
   "cell_type": "code",
   "execution_count": 9,
   "id": "8585b5c2",
   "metadata": {},
   "outputs": [],
   "source": [
    "# Create a Graph function and initialize it.\n",
    "g = Graph()\n",
    "g.set_as_default()"
   ]
  },
  {
   "cell_type": "code",
   "execution_count": 10,
   "id": "8b30f2f7",
   "metadata": {},
   "outputs": [],
   "source": [
    "W = Variable(10)\n",
    "b = Variable(1)"
   ]
  },
  {
   "cell_type": "code",
   "execution_count": 11,
   "id": "048505ea",
   "metadata": {},
   "outputs": [],
   "source": [
    "x = Placeholder()"
   ]
  },
  {
   "cell_type": "code",
   "execution_count": 12,
   "id": "3bc78d47",
   "metadata": {},
   "outputs": [
    {
     "name": "stdout",
     "output_type": "stream",
     "text": [
      "<__main__.Variable object at 0x10d897d60>\n",
      "<__main__.Placeholder object at 0x10d897130>\n",
      "<__main__.multiply object at 0x10d8c4670>\n",
      "<__main__.Variable object at 0x10d8aa340>\n"
     ]
    }
   ],
   "source": [
    "y = multiply(W, x) \n",
    "z = add(y, b)"
   ]
  },
  {
   "cell_type": "markdown",
   "id": "f2a9dbd9",
   "metadata": {},
   "source": [
    "Now that the Graph has all the nodes, we need to execute all the operations within a Session. Use PostOrder Tree Traversal to execute the nodes in the correct order"
   ]
  },
  {
   "cell_type": "code",
   "execution_count": 13,
   "id": "4dd9b23b",
   "metadata": {},
   "outputs": [],
   "source": [
    "def traverse_postorder(operation):\n",
    "    nodes_postorder = []\n",
    "    def recurse(node):\n",
    "        if isinstance(node, Operation):\n",
    "            print(\"traverse :: \", node.input_nodes)\n",
    "            for input_node in node.input_nodes:\n",
    "                recurse(input_node)\n",
    "                \n",
    "        nodes_postorder.append(node)\n",
    "        \n",
    "    recurse(operation)\n",
    "    return nodes_postorder"
   ]
  },
  {
   "cell_type": "markdown",
   "id": "e2d62a32",
   "metadata": {},
   "source": [
    "### Session Class \n",
    "\n",
    "Create a class with function run which takes operation and feed dictionary. A feed dictionary in TensorFlow is a dictionary mapping placeholders into input values. In other words placeholders are given with values with the help of feed dictionary. During the batch update of the network, all the placeholders will be given values using feed dictionary."
   ]
  },
  {
   "cell_type": "code",
   "execution_count": 14,
   "id": "6620e687",
   "metadata": {},
   "outputs": [],
   "source": [
    "class Session():\n",
    "    \n",
    "    def run(self, operation, feed_dict={}):\n",
    "        nodes_postorder = traverse_postorder(operation)\n",
    "        \n",
    "        for node in nodes_postorder:\n",
    "            \n",
    "            print(\"processing node :: \", node, type(node))\n",
    "            if type(node) == Placeholder:\n",
    "                node.output = feed_dict[node]\n",
    "                \n",
    "            elif type(node) == Variable:\n",
    "                node.output = node.value\n",
    "                \n",
    "            else:  # It is an operation\n",
    "                print(\"input_nodes :: \", node.input_nodes)\n",
    "                node.inputs = [input_node.output for input_node in node.input_nodes]\n",
    "                # The * mark below indicates giving inputs without knowing their actual count\n",
    "                node.output = node.compute(*node.inputs) # args\n",
    "                \n",
    "            print(\"output :: \", node.output)\n",
    "            if type(node.output) == list:\n",
    "                node.output = np.array(node.output)\n",
    "                \n",
    "        return operation.output\n",
    "                "
   ]
  },
  {
   "cell_type": "code",
   "execution_count": 15,
   "id": "b042fce2",
   "metadata": {},
   "outputs": [
    {
     "name": "stdout",
     "output_type": "stream",
     "text": [
      "traverse ::  [<__main__.multiply object at 0x10d8c4670>, <__main__.Variable object at 0x10d8aa340>]\n",
      "traverse ::  [<__main__.Variable object at 0x10d897d60>, <__main__.Placeholder object at 0x10d897130>]\n",
      "processing node ::  <__main__.Variable object at 0x10d897d60> <class '__main__.Variable'>\n",
      "output ::  10\n",
      "processing node ::  <__main__.Placeholder object at 0x10d897130> <class '__main__.Placeholder'>\n",
      "output ::  100\n",
      "processing node ::  <__main__.multiply object at 0x10d8c4670> <class '__main__.multiply'>\n",
      "input_nodes ::  [<__main__.Variable object at 0x10d897d60>, <__main__.Placeholder object at 0x10d897130>]\n",
      "output ::  1000\n",
      "processing node ::  <__main__.Variable object at 0x10d8aa340> <class '__main__.Variable'>\n",
      "output ::  1\n",
      "processing node ::  <__main__.add object at 0x10d8aa6d0> <class '__main__.add'>\n",
      "input_nodes ::  [<__main__.multiply object at 0x10d8c4670>, <__main__.Variable object at 0x10d8aa340>]\n",
      "output ::  1001\n"
     ]
    },
    {
     "data": {
      "text/plain": [
       "1001"
      ]
     },
     "execution_count": 15,
     "metadata": {},
     "output_type": "execute_result"
    }
   ],
   "source": [
    "sess = Session()\n",
    "result = sess.run(operation=z, feed_dict={x:100})\n",
    "result"
   ]
  },
  {
   "cell_type": "code",
   "execution_count": 16,
   "id": "01221786",
   "metadata": {},
   "outputs": [
    {
     "name": "stdout",
     "output_type": "stream",
     "text": [
      "<__main__.Variable object at 0x10d8c4e80>\n",
      "<__main__.Placeholder object at 0x10d8cc070>\n",
      "<__main__.matrixMultiply object at 0x10d8cc130>\n",
      "<__main__.Variable object at 0x10d8aabb0>\n",
      "traverse ::  [<__main__.matrixMultiply object at 0x10d8cc130>, <__main__.Variable object at 0x10d8aabb0>]\n",
      "traverse ::  [<__main__.Variable object at 0x10d8c4e80>, <__main__.Placeholder object at 0x10d8cc070>]\n",
      "processing node ::  <__main__.Variable object at 0x10d8c4e80> <class '__main__.Variable'>\n",
      "output ::  [[10 20]\n",
      " [30 40]]\n",
      "processing node ::  <__main__.Placeholder object at 0x10d8cc070> <class '__main__.Placeholder'>\n",
      "output ::  10\n",
      "processing node ::  <__main__.matrixMultiply object at 0x10d8cc130> <class '__main__.matrixMultiply'>\n",
      "input_nodes ::  [<__main__.Variable object at 0x10d8c4e80>, <__main__.Placeholder object at 0x10d8cc070>]\n",
      "output ::  [[100 200]\n",
      " [300 400]]\n",
      "processing node ::  <__main__.Variable object at 0x10d8aabb0> <class '__main__.Variable'>\n",
      "output ::  [1 2]\n",
      "processing node ::  <__main__.add object at 0x10d8cc0d0> <class '__main__.add'>\n",
      "input_nodes ::  [<__main__.matrixMultiply object at 0x10d8cc130>, <__main__.Variable object at 0x10d8aabb0>]\n",
      "output ::  [[101 202]\n",
      " [301 402]]\n"
     ]
    },
    {
     "data": {
      "text/plain": [
       "array([[101, 202],\n",
       "       [301, 402]])"
      ]
     },
     "execution_count": 16,
     "metadata": {},
     "output_type": "execute_result"
    }
   ],
   "source": [
    "g = Graph()\n",
    "g.set_as_default()\n",
    "\n",
    "W = Variable(np.array([10,20,30,40]).reshape(2,2))\n",
    "b = Variable(np.array([1,2,]))\n",
    "\n",
    "x = Placeholder()\n",
    "y = matrixMultiply(W,x)\n",
    "z = add(y, b)\n",
    "\n",
    "sess = Session()\n",
    "result = sess.run(operation=z, feed_dict={x:10})\n",
    "result"
   ]
  },
  {
   "cell_type": "markdown",
   "id": "e6753e44",
   "metadata": {},
   "source": [
    "# Classification Problem"
   ]
  },
  {
   "cell_type": "markdown",
   "id": "aa2e77cb",
   "metadata": {},
   "source": [
    "## Activation Function"
   ]
  },
  {
   "cell_type": "code",
   "execution_count": 17,
   "id": "ef73ed7e",
   "metadata": {},
   "outputs": [],
   "source": [
    "import matplotlib.pyplot as plt\n",
    "%matplotlib inline"
   ]
  },
  {
   "cell_type": "code",
   "execution_count": 18,
   "id": "833b668e",
   "metadata": {},
   "outputs": [],
   "source": [
    "def sigmoid(z):\n",
    "    return 1 / (1 + np.exp(-z))"
   ]
  },
  {
   "cell_type": "code",
   "execution_count": 19,
   "id": "6f607b66",
   "metadata": {},
   "outputs": [
    {
     "data": {
      "text/plain": [
       "[<matplotlib.lines.Line2D at 0x10e8e9f70>]"
      ]
     },
     "execution_count": 19,
     "metadata": {},
     "output_type": "execute_result"
    },
    {
     "data": {
      "image/png": "[encoded data removed]",
      "text/plain": [
       "<Figure size 432x288 with 1 Axes>"
      ]
     },
     "metadata": {
      "needs_background": "light"
     },
     "output_type": "display_data"
    }
   ],
   "source": [
    "# Lets plot a sigmoid function\n",
    "sample = np.linspace(-10, 10, 100)\n",
    "plt.plot(sample, sigmoid(sample))"
   ]
  },
  {
   "cell_type": "code",
   "execution_count": 46,
   "id": "f29e81f1",
   "metadata": {},
   "outputs": [],
   "source": [
    "class Sigmoid(Operation):\n",
    "    \n",
    "    def __init__(self, z):\n",
    "        \n",
    "        super().__init__([z])\n",
    "        \n",
    "    def compute(self, z_var):\n",
    "        return 1 / (1 + np.exp(-z_var))"
   ]
  },
  {
   "cell_type": "code",
   "execution_count": 21,
   "id": "e2fdbf3e",
   "metadata": {},
   "outputs": [],
   "source": [
    "from sklearn.datasets import make_blobs"
   ]
  },
  {
   "cell_type": "code",
   "execution_count": 22,
   "id": "c3be633d",
   "metadata": {},
   "outputs": [
    {
     "data": {
      "text/plain": [
       "(array([[  7.3402781 ,   9.36149154],\n",
       "        [  9.13332743,   8.74906102],\n",
       "        [  1.99243535,  -8.85885722],\n",
       "        [  7.38443759,   7.72520389],\n",
       "        [  7.97613887,   8.80878209],\n",
       "        [  7.76974352,   9.50899462],\n",
       "        [  8.3186688 ,  10.1026025 ],\n",
       "        [  8.79588546,   7.28046702],\n",
       "        [  9.81270381,   9.46968531],\n",
       "        [  1.57961049,  -8.17089971],\n",
       "        [  0.06441546,  -9.04982817],\n",
       "        [  7.2075117 ,   7.04533624],\n",
       "        [  9.10704928,   9.0272212 ],\n",
       "        [  1.82921897,  -9.86956281],\n",
       "        [  7.85036314,   7.986659  ],\n",
       "        [  3.04605603,  -7.50486114],\n",
       "        [  1.85582689,  -6.74473432],\n",
       "        [  2.88603902,  -8.85261704],\n",
       "        [ -1.20046211,  -9.55928542],\n",
       "        [  2.00890845,  -9.78471782],\n",
       "        [  7.68945113,   9.01706723],\n",
       "        [  6.42356167,   8.33356412],\n",
       "        [  8.15467319,   7.87489634],\n",
       "        [  1.92000795,  -7.50953708],\n",
       "        [  1.90073973,  -7.24386675],\n",
       "        [  7.7605855 ,   7.05124418],\n",
       "        [  6.90561582,   9.23493842],\n",
       "        [  0.65582768,  -9.5920878 ],\n",
       "        [  1.41804346,  -8.10517372],\n",
       "        [  9.65371965,   9.35409538],\n",
       "        [  1.23053506,  -7.98873571],\n",
       "        [  1.96322881,  -9.50169117],\n",
       "        [  6.11644251,   9.26709393],\n",
       "        [  7.70630321,  10.78862346],\n",
       "        [  0.79580385,  -9.00301023],\n",
       "        [  3.13114921,  -8.6849493 ],\n",
       "        [  1.3970852 ,  -7.25918415],\n",
       "        [  7.27808709,   7.15201886],\n",
       "        [  1.06965742,  -8.1648251 ],\n",
       "        [  6.37298915,   9.77705761],\n",
       "        [  7.24898455,   8.85834104],\n",
       "        [  2.09335725,  -7.66278316],\n",
       "        [  1.05865542,  -8.43841416],\n",
       "        [  6.43807502,   7.85483418],\n",
       "        [  6.94948313,   8.75248232],\n",
       "        [ -0.07326715, -11.69999644],\n",
       "        [  0.61463602,  -9.51908883],\n",
       "        [  1.31977821,  -7.2710667 ],\n",
       "        [  2.72532584,  -7.51956557],\n",
       "        [  8.20949206,  11.90419283]]),\n",
       " array([1, 1, 0, 1, 1, 1, 1, 1, 1, 0, 0, 1, 1, 0, 1, 0, 0, 0, 0, 0, 1, 1,\n",
       "        1, 0, 0, 1, 1, 0, 0, 1, 0, 0, 1, 1, 0, 0, 0, 1, 0, 1, 1, 0, 0, 1,\n",
       "        1, 0, 0, 0, 0, 1]))"
      ]
     },
     "execution_count": 22,
     "metadata": {},
     "output_type": "execute_result"
    }
   ],
   "source": [
    "data = make_blobs(n_samples = 50, n_features = 2, centers=2, random_state=75)\n",
    "data"
   ]
  },
  {
   "cell_type": "code",
   "execution_count": 23,
   "id": "35a61a31",
   "metadata": {},
   "outputs": [],
   "source": [
    "features = data[0]\n",
    "labels = data[1]"
   ]
  },
  {
   "cell_type": "code",
   "execution_count": 24,
   "id": "1fde7c53",
   "metadata": {},
   "outputs": [
    {
     "data": {
      "image/png": "[encoded data removed]",
      "text/plain": [
       "<Figure size 432x288 with 1 Axes>"
      ]
     },
     "metadata": {
      "needs_background": "light"
     },
     "output_type": "display_data"
    }
   ],
   "source": [
    "x = np.linspace(0, 11, 10)\n",
    "y = -x + 5\n",
    "plt.scatter(features[:,0], features[:,1], c=labels, cmap=\"coolwarm\")\n",
    "plt.plot(x, y)\n",
    "plt.show()"
   ]
  },
  {
   "cell_type": "markdown",
   "id": "3faabc82",
   "metadata": {},
   "source": [
    "In the above plot, blue line separates both the clusters perfect. Essentially the x and y of the blue lines are nothing but the features of the input bolb. x = f1, y = f2.\n",
    "\n",
    "Now, lets try to convert the line equaltion into matrix form.\n",
    "\n",
    "y = mx + b\n",
    "\n",
    "y = -1x + 5\n",
    "\n",
    "f2 = -f1 + 5 [ x = f1; y = f2 ]\n",
    "\n",
    "f2 + f1 - 5 = 0\n",
    "\n",
    "here, f1 and f2 are columns of the input\n",
    "\n",
    "The matrix form of f2 + f1 => FeatMatrix * [1,1] and\n",
    "\n",
    "f2 + f1 - 5 = 0  ==> FeatMatrix * [1,1] - 5 = 0; * - is dot product here"
   ]
  },
  {
   "cell_type": "code",
   "execution_count": 42,
   "id": "0b5a0da8",
   "metadata": {},
   "outputs": [
    {
     "name": "stdout",
     "output_type": "stream",
     "text": [
      "[[1 2]\n",
      " [3 4]\n",
      " [5 6]]\n"
     ]
    },
    {
     "data": {
      "text/plain": [
       "array([-2,  2,  6])"
      ]
     },
     "execution_count": 42,
     "metadata": {},
     "output_type": "execute_result"
    }
   ],
   "source": [
    "# Checking purpose\n",
    "f = np.array([1,2,3,4,5,6]).reshape(3,2)\n",
    "print(f)\n",
    "f.dot(np.array([1,1])) - 5"
   ]
  },
  {
   "cell_type": "code",
   "execution_count": 43,
   "id": "e1953790",
   "metadata": {},
   "outputs": [
    {
     "name": "stdout",
     "output_type": "stream",
     "text": [
      "(50, 2)\n"
     ]
    }
   ],
   "source": [
    "print(features.shape)"
   ]
  },
  {
   "cell_type": "code",
   "execution_count": 51,
   "id": "bd52bb5d",
   "metadata": {},
   "outputs": [
    {
     "name": "stdout",
     "output_type": "stream",
     "text": [
      "<__main__.Variable object at 0x128a5e640>\n",
      "<__main__.Placeholder object at 0x128b8d1f0>\n",
      "<__main__.matrixMultiply object at 0x128a61c40>\n",
      "<__main__.Variable object at 0x128a61940>\n",
      "<__main__.add object at 0x128a61df0>\n",
      "traverse ::  [<__main__.add object at 0x128a61df0>]\n",
      "traverse ::  [<__main__.matrixMultiply object at 0x128a61c40>, <__main__.Variable object at 0x128a61940>]\n",
      "traverse ::  [<__main__.Variable object at 0x128a5e640>, <__main__.Placeholder object at 0x128b8d1f0>]\n",
      "processing node ::  <__main__.Variable object at 0x128a5e640> <class '__main__.Variable'>\n",
      "output ::  [1, 1]\n",
      "processing node ::  <__main__.Placeholder object at 0x128b8d1f0> <class '__main__.Placeholder'>\n",
      "output ::  [9.13332743 8.74906102]\n",
      "processing node ::  <__main__.matrixMultiply object at 0x128a61c40> <class '__main__.matrixMultiply'>\n",
      "input_nodes ::  [<__main__.Variable object at 0x128a5e640>, <__main__.Placeholder object at 0x128b8d1f0>]\n",
      "output ::  17.882388443041556\n",
      "processing node ::  <__main__.Variable object at 0x128a61940> <class '__main__.Variable'>\n",
      "output ::  -5\n",
      "processing node ::  <__main__.add object at 0x128a61df0> <class '__main__.add'>\n",
      "input_nodes ::  [<__main__.matrixMultiply object at 0x128a61c40>, <__main__.Variable object at 0x128a61940>]\n",
      "output ::  12.882388443041556\n",
      "processing node ::  <__main__.Sigmoid object at 0x128a61790> <class '__main__.Sigmoid'>\n",
      "input_nodes ::  [<__main__.add object at 0x128a61df0>]\n",
      "output ::  0.9999974575718917\n"
     ]
    },
    {
     "data": {
      "text/plain": [
       "0.9999974575718917"
      ]
     },
     "execution_count": 51,
     "metadata": {},
     "output_type": "execute_result"
    }
   ],
   "source": [
    "# Letz try to build above equation in Graph \n",
    "\n",
    "g = Graph()\n",
    "g.set_as_default()\n",
    "\n",
    "x = Placeholder() #Feature Matrix\n",
    "weight = Variable([1,1])\n",
    "bias = Variable(-5)\n",
    "\n",
    "# Fit into Equation\n",
    "y = matrixMultiply(weight, x)\n",
    "z = add(y, bias)\n",
    "\n",
    "# Pass thru Sigmoid function\n",
    "s = Sigmoid(z)\n",
    "\n",
    "sess = Session()\n",
    "result = sess.run(operation=s, feed_dict={x:features[1,:]})\n",
    "result"
   ]
  },
  {
   "cell_type": "code",
   "execution_count": null,
   "id": "3d7f62c1",
   "metadata": {},
   "outputs": [],
   "source": []
  }
 ],
 "metadata": {
  "kernelspec": {
   "display_name": "deep-modeling",
   "language": "python",
   "name": "deep-modeling"
  },
  "language_info": {
   "codemirror_mode": {
    "name": "ipython",
    "version": 3
   },
   "file_extension": ".py",
   "mimetype": "text/x-python",
   "name": "python",
   "nbconvert_exporter": "python",
   "pygments_lexer": "ipython3",
   "version": "3.9.4"
  }
 },
 "nbformat": 4,
 "nbformat_minor": 5
}
