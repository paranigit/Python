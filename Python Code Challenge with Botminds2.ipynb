{
 "cells": [
  {
   "cell_type": "markdown",
   "id": "e43ba8aa",
   "metadata": {},
   "source": [
    "Write a function takes in a non-empty string and returns its run-length encoding. \n",
    "\n",
    "\"run-length encoding is a form of lossless data compression in which runs of data are stored as a single data value and count, rather as the original run\" \n",
    "\n",
    "For this problem, a run of data is any sequence of consecutive, identical characters. So the run \"AAA\" would be run-length-encoded as \"3A\" \n",
    "\n",
    "The input string can contain all sorts of special character, including numbers. And since encoded data must be decodable, this means that we can't naively run-length-encode long runs. For example, the \"AAAAAAAAAAAA\" (12 A's) can't naively be encoded as \"12A\", since this string can be decoded as either \"AAAAAAAAAAAA\" or \"1AA\". Thus, long runs (runs of 10 or more characters) should be encoded in split fashion; \"AAAAAAAAAAAA\" is encoded as \"9A3A\" \n",
    "\n",
    " \n",
    "\n",
    "Example: \n",
    "\n",
    "Input: string = \"AAAAAAAAAAAAABBCCCCDD\" \n",
    "\n",
    "Output= \"9A4A2B4C2D\" \n",
    "\n",
    "Explanation: 13 A's splits into 9A and 4A and 2B, 4C and 2D"
   ]
  },
  {
   "cell_type": "code",
   "execution_count": 11,
   "id": "ea3bc9f2",
   "metadata": {},
   "outputs": [
    {
     "name": "stdout",
     "output_type": "stream",
     "text": [
      "A 9\n",
      "A 4\n",
      "B 2\n",
      "C 4\n"
     ]
    },
    {
     "data": {
      "text/plain": [
       "'9A4A2B4C2D'"
      ]
     },
     "execution_count": 11,
     "metadata": {},
     "output_type": "execute_result"
    }
   ],
   "source": [
    "string = \"AAAAAAAAAAAAABBCCCCDD\"\n",
    "\n",
    "i = 0\n",
    "output = ''\n",
    "cnt = 1\n",
    "\n",
    "while (i < len(string)):\n",
    "    letter = string[i]\n",
    "    \n",
    "    if i > 0:\n",
    "        if (string[i] == prev_letter):\n",
    "            if cnt > 8:\n",
    "                output = f\"{output}{cnt}{prev_letter}\"\n",
    "                print(prev_letter,cnt)\n",
    "                cnt = 1\n",
    "            else:\n",
    "                cnt += 1\n",
    "        else:\n",
    "            output = f\"{output}{cnt}{prev_letter}\"\n",
    "            print(prev_letter,cnt)\n",
    "            cnt = 1\n",
    "\n",
    "    prev_letter = string[i]\n",
    "    i += 1\n",
    "    \n",
    "output = f\"{output}{cnt}{prev_letter}\"\n",
    "output"
   ]
  },
  {
   "cell_type": "code",
   "execution_count": 18,
   "id": "976967fa",
   "metadata": {},
   "outputs": [],
   "source": [
    "class TST():\n",
    "    \n",
    "    def __init__(self, string):\n",
    "        self.string = string\n",
    "        \n",
    "    def encode(self):\n",
    "        i = 0\n",
    "        output = ''\n",
    "        cnt = 1\n",
    "\n",
    "        while (i < len(self.string)):\n",
    "            letter = self.string[i]\n",
    "\n",
    "            if i > 0:\n",
    "                if (self.string[i] == prev_letter):\n",
    "                    if cnt > 8:\n",
    "                        output = f\"{output}{cnt}{prev_letter}\"\n",
    "                        cnt = 1\n",
    "                    else:\n",
    "                        cnt += 1\n",
    "                else:\n",
    "                    output = f\"{output}{cnt}{prev_letter}\"\n",
    "                    cnt = 1\n",
    "\n",
    "            prev_letter = self.string[i]\n",
    "            i += 1\n",
    "\n",
    "        output = f\"{output}{cnt}{prev_letter}\"\n",
    "        return output"
   ]
  },
  {
   "cell_type": "code",
   "execution_count": 19,
   "id": "65e28700",
   "metadata": {},
   "outputs": [
    {
     "data": {
      "text/plain": [
       "'3V9C2C4D4!1#'"
      ]
     },
     "execution_count": 19,
     "metadata": {},
     "output_type": "execute_result"
    }
   ],
   "source": [
    "t = TST(\"VVVCCCCCCCCCCCDDDD!!!!#\")\n",
    "t.encode()"
   ]
  },
  {
   "cell_type": "code",
   "execution_count": 22,
   "id": "c405c33f",
   "metadata": {},
   "outputs": [
    {
     "name": "stdout",
     "output_type": "stream",
     "text": [
      "V\n",
      "V\n",
      "V\n",
      "C\n",
      "C\n",
      "C\n",
      "C\n",
      "C\n",
      "D\n",
      "D\n",
      "D\n",
      "D\n",
      "!\n",
      "!\n",
      "!\n",
      "!\n",
      "#\n"
     ]
    }
   ],
   "source": [
    "string = \"VVVCCCCCDDDD!!!!#\"\n",
    "for l in list(string):\n",
    "    print(l)"
   ]
  },
  {
   "cell_type": "code",
   "execution_count": null,
   "id": "bc578096",
   "metadata": {},
   "outputs": [],
   "source": []
  }
 ],
 "metadata": {
  "kernelspec": {
   "display_name": "deep-modeling",
   "language": "python",
   "name": "deep-modeling"
  },
  "language_info": {
   "codemirror_mode": {
    "name": "ipython",
    "version": 3
   },
   "file_extension": ".py",
   "mimetype": "text/x-python",
   "name": "python",
   "nbconvert_exporter": "python",
   "pygments_lexer": "ipython3",
   "version": "3.9.4"
  }
 },
 "nbformat": 4,
 "nbformat_minor": 5
}
