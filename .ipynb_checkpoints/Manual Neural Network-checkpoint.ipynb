{
 "cells": [
  {
   "cell_type": "markdown",
   "id": "ccaa7bc5",
   "metadata": {},
   "source": [
    "## Manual Neural Network\n",
    "\n",
    "This is a demostration of simple Articial Neural Networks (ANN) without any special packages like TensorFlow. Here a simple ANN compoments are build manually for the purpose of understanding."
   ]
  },
  {
   "cell_type": "markdown",
   "id": "0784a721",
   "metadata": {},
   "source": [
    "### Operation Classes\n",
    "* Input Nodes\n",
    "* Output Nodes\n",
    "* Global Default Graph Variable\n",
    "* Compute\n",
    "    * Overwritten by extended classes"
   ]
  },
  {
   "cell_type": "code",
   "execution_count": 18,
   "id": "4832dc5b",
   "metadata": {},
   "outputs": [],
   "source": [
    "class Operation():\n",
    "    \n",
    "    def __init__(self, input_nodes=[]):\n",
    "        \n",
    "        self.input_nodes = input_nodes\n",
    "        self.output_nodes = []\n",
    "        \n",
    "        for node in input_nodes:\n",
    "            print(node)\n",
    "            self.output_nodes.append(self)\n",
    "            \n",
    "        _default_graph.operations.append(self)\n",
    "            \n",
    "    def compute(self):\n",
    "        pass\n",
    "    "
   ]
  },
  {
   "cell_type": "code",
   "execution_count": 11,
   "id": "21d581d2",
   "metadata": {},
   "outputs": [],
   "source": [
    "class add(Operation):\n",
    "    \n",
    "    def __init__(self, x, y):\n",
    "        \n",
    "        super().__init__([x, y])\n",
    "        \n",
    "    def compute(self, x_var, y_var):\n",
    "        self.inputs = [x_var, y_var]\n",
    "        return x_var + y_var"
   ]
  },
  {
   "cell_type": "code",
   "execution_count": 13,
   "id": "64e4fb19",
   "metadata": {},
   "outputs": [],
   "source": [
    "class multiply(Operation):\n",
    "    \n",
    "    def __init__(self, x, y):\n",
    "        \n",
    "        super().__init__([x, y])\n",
    "        \n",
    "    def compute(self, x_var, y_var):\n",
    "        self.inputs = [x_var, y_var]\n",
    "        return x_var * y_var"
   ]
  },
  {
   "cell_type": "code",
   "execution_count": 14,
   "id": "34a34aa3",
   "metadata": {},
   "outputs": [],
   "source": [
    "class matrixMultiply(Operation):\n",
    "    \n",
    "    def __init__(self, x, y):\n",
    "        \n",
    "        super().__init__([x, y])\n",
    "        \n",
    "    def compute(self, x_var, y_var):\n",
    "        self.inputs = [x_var, y_var]\n",
    "        return x_var.dot(y_var)"
   ]
  },
  {
   "cell_type": "markdown",
   "id": "aa088996",
   "metadata": {},
   "source": [
    "### Variables, Placeholders & Graphs Classes\n",
    "\n",
    "* Placeholder - An Empty Node to hold output value.\n",
    "* Variables - Changeable parameter of Graph\n",
    "* Graph - Global Variable connecting variables & placeholders to Operations"
   ]
  },
  {
   "cell_type": "code",
   "execution_count": 15,
   "id": "0469bcb8",
   "metadata": {},
   "outputs": [],
   "source": [
    "class PlaceHolder():\n",
    "    \n",
    "    def __init__(self):\n",
    "        \n",
    "        self.output_nodes = []\n",
    "        \n",
    "        _default_graph.placeholders.append(self)"
   ]
  },
  {
   "cell_type": "code",
   "execution_count": 16,
   "id": "b49617c7",
   "metadata": {},
   "outputs": [],
   "source": [
    "class Variable():\n",
    "    \n",
    "    def __init__(self, init_val=None):\n",
    "        \n",
    "        self.value = init_val\n",
    "        self.output_nodes = []\n",
    "        \n",
    "        _default_graph.variables.append(self)"
   ]
  },
  {
   "cell_type": "code",
   "execution_count": 19,
   "id": "66e60dcc",
   "metadata": {},
   "outputs": [],
   "source": [
    "# Graph class is basically connecting variables and placeholders into operations they belong to..\n",
    "class Graph():\n",
    "    \n",
    "    def __init__(self):\n",
    "        \n",
    "        self.operations = []\n",
    "        self.placeholders = []\n",
    "        self.variables = []\n",
    "        \n",
    "    def set_as_default(self):\n",
    "        \n",
    "        global _default_graph\n",
    "        _default_graph = self"
   ]
  },
  {
   "cell_type": "markdown",
   "id": "732dc73b",
   "metadata": {},
   "source": [
    "Lets try to create a Graph to implement the following now.\n",
    "\n",
    "z = Wx + b\n",
    "\n",
    "here W = 10, b = 1 and x - placeholder"
   ]
  },
  {
   "cell_type": "code",
   "execution_count": 22,
   "id": "25175b0b",
   "metadata": {},
   "outputs": [],
   "source": [
    "# Create a Graph function and initialize it.\n",
    "g = Graph()\n",
    "g.set_as_default()"
   ]
  },
  {
   "cell_type": "code",
   "execution_count": 24,
   "id": "c79d84b8",
   "metadata": {},
   "outputs": [],
   "source": [
    "W = Variable(10)\n",
    "b = Variable(1)"
   ]
  },
  {
   "cell_type": "code",
   "execution_count": 25,
   "id": "c2659900",
   "metadata": {},
   "outputs": [],
   "source": [
    "x = PlaceHolder()"
   ]
  },
  {
   "cell_type": "code",
   "execution_count": 28,
   "id": "e5db88c1",
   "metadata": {},
   "outputs": [
    {
     "name": "stdout",
     "output_type": "stream",
     "text": [
      "<__main__.Variable object at 0x115355760>\n",
      "<__main__.PlaceHolder object at 0x1155ada90>\n",
      "<__main__.multiply object at 0x115355460>\n",
      "<__main__.Variable object at 0x115355640>\n"
     ]
    }
   ],
   "source": [
    "y = multiply(W, x) \n",
    "z = add(y, b)"
   ]
  },
  {
   "cell_type": "markdown",
   "id": "391631fd",
   "metadata": {},
   "source": [
    "Now that the Graph has all the nodes, we need to execute all the operations within a Session. Use PostOrder Tree Traversal to execute the nodes in the correct order"
   ]
  },
  {
   "cell_type": "code",
   "execution_count": 30,
   "id": "fa6cd023",
   "metadata": {},
   "outputs": [],
   "source": [
    "def traverse_postorder(operations):\n",
    "    nodes_postorder = []\n",
    "    def recurse(node):\n",
    "        if isinstance(node, Operation):\n",
    "            for input_node in node.input_nodes:\n",
    "                recurse(input_node)\n",
    "                \n",
    "        nodes_postorder.append(node)\n",
    "        \n",
    "    recurse(operation)\n",
    "    return nodes_postorder"
   ]
  },
  {
   "cell_type": "markdown",
   "id": "aa7dd46f",
   "metadata": {},
   "source": [
    "### Session Class \n",
    "\n",
    "Create a class with function run which takes operation and feed dictionary. A feed dictionary in TensorFlow is a dictionary mapping placeholders into input values. In other words placeholders are given with values with the help of feed dictionary. During the batch update of the network, all the placeholders will be given values using feed dictionary."
   ]
  },
  {
   "cell_type": "code",
   "execution_count": null,
   "id": "a4bea522",
   "metadata": {},
   "outputs": [],
   "source": [
    "class Session():\n",
    "    \n",
    "    def run(self, operation, feed_dict={}):\n",
    "        \n",
    "        nodes_postorder = traverse_postorder(operation)\n",
    "        \n",
    "        for node in nodes_postorder:\n",
    "            \n",
    "            if type(node) == PlaceHolder:\n",
    "                node.output = feed_dict[node]\n",
    "                \n",
    "            elif type(node) == Variable:\n",
    "                node.output = node.value\n",
    "                \n",
    "            else:  # It is an operation\n",
    "                node.inputs = [input_node.output for input_node in node.input_node]\n",
    "                \n",
    "                # The * mark below indicates giving inputs without knowing their actual count\n",
    "                node.outputs = node.compute(*node.inputs)\n",
    "                "
   ]
  }
 ],
 "metadata": {
  "kernelspec": {
   "display_name": "deep-modeling",
   "language": "python",
   "name": "deep-modeling"
  },
  "language_info": {
   "codemirror_mode": {
    "name": "ipython",
    "version": 3
   },
   "file_extension": ".py",
   "mimetype": "text/x-python",
   "name": "python",
   "nbconvert_exporter": "python",
   "pygments_lexer": "ipython3",
   "version": "3.9.4"
  }
 },
 "nbformat": 4,
 "nbformat_minor": 5
}
