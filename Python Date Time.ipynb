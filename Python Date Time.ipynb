{
 "cells": [
  {
   "cell_type": "code",
   "execution_count": 2,
   "metadata": {},
   "outputs": [],
   "source": [
    "from datetime import datetime, timezone"
   ]
  },
  {
   "cell_type": "code",
   "execution_count": 5,
   "metadata": {},
   "outputs": [
    {
     "name": "stdout",
     "output_type": "stream",
     "text": [
      "2024-01-24 22:18:22.589887\n",
      "2024-01-25 04:18:22.589967+00:00\n",
      "2024-01-25T04:18:22.590011+00:00\n",
      "<class 'str'>\n"
     ]
    }
   ],
   "source": [
    "# Get UTC time\n",
    "print(datetime.now())\n",
    "print(datetime.now(timezone.utc))\n",
    "print(datetime.now(timezone.utc).isoformat())\n",
    "print(type(datetime.now(timezone.utc).isoformat()))"
   ]
  }
 ],
 "metadata": {
  "kernelspec": {
   "display_name": "conda-general",
   "language": "python",
   "name": "python3"
  },
  "language_info": {
   "codemirror_mode": {
    "name": "ipython",
    "version": 3
   },
   "file_extension": ".py",
   "mimetype": "text/x-python",
   "name": "python",
   "nbconvert_exporter": "python",
   "pygments_lexer": "ipython3",
   "version": "3.12.1"
  }
 },
 "nbformat": 4,
 "nbformat_minor": 2
}
