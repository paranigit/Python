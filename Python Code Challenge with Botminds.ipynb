{
 "cells": [
  {
   "cell_type": "code",
   "execution_count": 1,
   "id": "8c9b66da",
   "metadata": {},
   "outputs": [],
   "source": [
    "#INPUT\n",
    "text = \"Python is used to build machine learning systems I like machines\"\n",
    "\n",
    "\"Python is used to build learning machine systems I like machines\"\n",
    "\n",
    "string_to_tags = {\n",
    "    \"python\": \"language\",\n",
    "    \"machine learning\": \"field\"\n",
    "    }\n",
    "#OUTPUT\n",
    "output_tags = ['language', 'O','O','O','O','field','field','O','O','O','O']"
   ]
  },
  {
   "cell_type": "code",
   "execution_count": 33,
   "id": "7660a8bf",
   "metadata": {},
   "outputs": [],
   "source": [
    "text1 = \"On a hot day lets eat ice cream my favourite is fire and ice\"\n",
    "string_to_tags1 = {\n",
    "    \"hot\": \"weather\",\n",
    "    \"ice cream\": \"food\"\n",
    "}\n",
    "words1 = text1.split()"
   ]
  },
  {
   "cell_type": "code",
   "execution_count": 23,
   "id": "0022386e",
   "metadata": {},
   "outputs": [
    {
     "data": {
      "text/plain": [
       "['language', 0, 0, 0, 0, 0, 0, 0, 0, 0, 0]"
      ]
     },
     "execution_count": 23,
     "metadata": {},
     "output_type": "execute_result"
    }
   ],
   "source": [
    "output = []\n",
    "for word in words:\n",
    "    key_found = False\n",
    "    for key, value in string_to_tags.items():\n",
    "        if (word.lower() == key):\n",
    "            output.append(value)\n",
    "            key_found = True\n",
    "            break\n",
    "    \n",
    "    if not key_found:\n",
    "        output.append(0)\n",
    "    \n",
    "output"
   ]
  },
  {
   "cell_type": "code",
   "execution_count": 31,
   "id": "10a49605",
   "metadata": {},
   "outputs": [
    {
     "name": "stdout",
     "output_type": "stream",
     "text": [
      "Python is\n",
      "is used\n",
      "used to\n",
      "to build\n",
      "build machine\n",
      "machine learning\n",
      "learning systems\n",
      "systems I\n",
      "I like\n",
      "like machines\n"
     ]
    },
    {
     "data": {
      "text/plain": [
       "['language', 0, 0, 0, 0, 'field', 'field', 0, 0, 0, 0]"
      ]
     },
     "execution_count": 31,
     "metadata": {},
     "output_type": "execute_result"
    }
   ],
   "source": [
    "output = []\n",
    "for i in range(len(words) - 1):\n",
    "    print(words[i], words[i+1])\n",
    "    key_found = False\n",
    "    for key, value in string_to_tags.items():\n",
    "        if (words[i].lower() == key):\n",
    "            output.append(value)\n",
    "            key_found = True\n",
    "            break\n",
    "        elif (words[i] + \" \" + words[i+1] == key):\n",
    "            output.append(value)\n",
    "            output.append(value)\n",
    "            key_found = True\n",
    "            break\n",
    "            \n",
    "    if not key_found:\n",
    "        output.append(0)\n",
    "        \n",
    "output"
   ]
  },
  {
   "cell_type": "code",
   "execution_count": 85,
   "id": "97b2a614",
   "metadata": {},
   "outputs": [],
   "source": [
    "# Function for any no of tags:\n",
    "\n",
    "def xyz(ln, tags):\n",
    "    output = []\n",
    "    words = ln.split(\" \")\n",
    "    i = 0\n",
    "    while i < len(words):\n",
    "        key_found = False\n",
    "        for key, value in tags.items():\n",
    "            word_count = len(key.split(\" \"))\n",
    "            if (\" \".join(words[i:i+word_count]).lower() == key.lower()):\n",
    "                key_found = True\n",
    "                output = output + ([value] * word_count)\n",
    "                i += word_count\n",
    "                break\n",
    "\n",
    "        if not key_found:\n",
    "            output.append(0)\n",
    "            i += 1\n",
    "        \n",
    "    return output"
   ]
  },
  {
   "cell_type": "code",
   "execution_count": 86,
   "id": "ff55f832",
   "metadata": {},
   "outputs": [
    {
     "data": {
      "text/plain": [
       "['language', 0, 'test', 'test', 'test', 'education', 'education', 0, 0, 0, 0]"
      ]
     },
     "execution_count": 86,
     "metadata": {},
     "output_type": "execute_result"
    }
   ],
   "source": [
    "text = \"Python is used to build machine learning systems I like machines\"\n",
    "tags = {\n",
    "    \"Python\": \"language\",\n",
    "    \"machine learning\": \"education\",\n",
    "    \"used to build\": \"test\"\n",
    "}\n",
    "output = xyz(text, tags)\n",
    "output"
   ]
  },
  {
   "cell_type": "code",
   "execution_count": null,
   "id": "ff9ce9ad",
   "metadata": {},
   "outputs": [],
   "source": [
    "output_tags1 = ['O', 'O', 'weather', 'O', 'O', 'O', 'food', 'food', 'O', 'O', 'O', 'O', 'O', 'O']"
   ]
  },
  {
   "cell_type": "code",
   "execution_count": 74,
   "id": "eded3221",
   "metadata": {},
   "outputs": [
    {
     "data": {
      "text/plain": [
       "[1, 2, '3', '3']"
      ]
     },
     "execution_count": 74,
     "metadata": {},
     "output_type": "execute_result"
    }
   ],
   "source": [
    "a = [1,2]\n",
    "a=a + (['3'] * 2)\n",
    "a"
   ]
  },
  {
   "cell_type": "code",
   "execution_count": 57,
   "id": "e3c573b3",
   "metadata": {},
   "outputs": [
    {
     "data": {
      "text/plain": [
       "3"
      ]
     },
     "execution_count": 57,
     "metadata": {},
     "output_type": "execute_result"
    }
   ],
   "source": [
    "len('test is test'.split(\" \"))"
   ]
  }
 ],
 "metadata": {
  "kernelspec": {
   "display_name": "Python 3",
   "language": "python",
   "name": "python3"
  },
  "language_info": {
   "codemirror_mode": {
    "name": "ipython",
    "version": 3
   },
   "file_extension": ".py",
   "mimetype": "text/x-python",
   "name": "python",
   "nbconvert_exporter": "python",
   "pygments_lexer": "ipython3",
   "version": "3.7.10"
  }
 },
 "nbformat": 4,
 "nbformat_minor": 5
}
