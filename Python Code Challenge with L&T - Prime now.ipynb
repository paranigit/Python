{
 "cells": [
  {
   "cell_type": "code",
   "execution_count": 19,
   "id": "53adb4c1",
   "metadata": {},
   "outputs": [
    {
     "name": "stdout",
     "output_type": "stream",
     "text": [
      "[1, 2, 3, 5, 7, 11, 13, 17, 19, 23, 29, 31, 37, 41, 43, 47, 53, 59, 61, 67, 71, 73, 79, 83, 89, 97, 101, 103, 107, 109, 113, 127, 131, 137, 139, 149, 151, 157, 163, 167, 173, 179, 181, 191, 193, 197, 199, 211, 223, 227, 229, 233, 239, 241, 251, 257, 263, 269, 271, 277, 281, 283, 293, 307, 311, 313, 317, 331, 337, 347, 349, 353, 359, 367, 373, 379, 383, 389, 397, 401, 409, 419, 421, 431, 433, 439, 443, 449, 457, 461, 463, 467, 479, 487, 491, 499, 503, 509, 521, 523]\n"
     ]
    }
   ],
   "source": [
    "# Print first 100 Prime numbers \n",
    "prime = []\n",
    "k = 1\n",
    "i = 1\n",
    "while (k <= 100):\n",
    "    isPrime = True\n",
    "    for j in range(2, i - 1):\n",
    "        if i % j == 0:\n",
    "            isPrime = False\n",
    "            \n",
    "    if isPrime:\n",
    "        prime.append(i)\n",
    "        k += 1\n",
    "    \n",
    "    if i > 2:\n",
    "        i += 2\n",
    "    else:\n",
    "        i += 1 \n",
    "        \n",
    "print(prime)"
   ]
  },
  {
   "cell_type": "code",
   "execution_count": 12,
   "id": "413b97d8",
   "metadata": {},
   "outputs": [
    {
     "name": "stdout",
     "output_type": "stream",
     "text": [
      "[1, 3, 5, 7, 11, 13, 17, 19, 23, 29, 31, 37, 41, 43, 47, 53, 59, 61, 67, 71, 73, 79, 83, 89, 97]\n"
     ]
    }
   ],
   "source": [
    "prime2 = []\n",
    "for i in range(1,100, 2):\n",
    "    isPrime = True\n",
    "    for j in range(2, i - 1):\n",
    "        if i % j == 0:\n",
    "            isPrime = False\n",
    "            \n",
    "    if isPrime:\n",
    "        prime2.append(i)\n",
    "        \n",
    "print(prime2)"
   ]
  },
  {
   "cell_type": "code",
   "execution_count": 15,
   "id": "b8b8e9fc",
   "metadata": {},
   "outputs": [
    {
     "data": {
      "text/plain": [
       "100"
      ]
     },
     "execution_count": 15,
     "metadata": {},
     "output_type": "execute_result"
    }
   ],
   "source": [
    "len(prime)"
   ]
  }
 ],
 "metadata": {
  "kernelspec": {
   "display_name": "ml-modeling",
   "language": "python",
   "name": "ml-modeling"
  },
  "language_info": {
   "codemirror_mode": {
    "name": "ipython",
    "version": 3
   },
   "file_extension": ".py",
   "mimetype": "text/x-python",
   "name": "python",
   "nbconvert_exporter": "python",
   "pygments_lexer": "ipython3",
   "version": "3.7.10"
  }
 },
 "nbformat": 4,
 "nbformat_minor": 5
}
