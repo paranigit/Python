{
 "cells": [
  {
   "cell_type": "code",
   "execution_count": 13,
   "id": "708690d5",
   "metadata": {},
   "outputs": [
    {
     "name": "stdout",
     "output_type": "stream",
     "text": [
      "Factorial of 5 is 120\n"
     ]
    }
   ],
   "source": [
    "# Factorial Program\n",
    "\n",
    "def factorial(x):\n",
    "    if x < 0:\n",
    "        return 0\n",
    "    elif x == 1:\n",
    "        return 1\n",
    "    else:\n",
    "        return x * factorial(x - 1)\n",
    "    \n",
    "\n",
    "x = 5\n",
    "print(f\"Factorial of {x} is {factorial(x)}\")"
   ]
  },
  {
   "cell_type": "code",
   "execution_count": 18,
   "id": "2fd8d5e2",
   "metadata": {},
   "outputs": [
    {
     "name": "stdout",
     "output_type": "stream",
     "text": [
      "8\n"
     ]
    }
   ],
   "source": [
    "a = 5\n",
    "b = 3\n",
    "\n",
    "m = 3\n",
    "n = 3\n",
    "\n",
    "count = (1 + (a - (m - 1))) * (1 + (b - (n - 1)))\n",
    "print(count)"
   ]
  }
 ],
 "metadata": {
  "kernelspec": {
   "display_name": "deep-modeling",
   "language": "python",
   "name": "deep-modeling"
  },
  "language_info": {
   "codemirror_mode": {
    "name": "ipython",
    "version": 3
   },
   "file_extension": ".py",
   "mimetype": "text/x-python",
   "name": "python",
   "nbconvert_exporter": "python",
   "pygments_lexer": "ipython3",
   "version": "3.9.4"
  }
 },
 "nbformat": 4,
 "nbformat_minor": 5
}
