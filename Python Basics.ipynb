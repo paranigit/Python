{
 "cells": [
  {
   "cell_type": "code",
   "execution_count": 11,
   "id": "1b703643-7d9e-4e84-89e8-b73e2c680a7d",
   "metadata": {},
   "outputs": [
    {
     "name": "stdout",
     "output_type": "stream",
     "text": [
      "5\n",
      "10\n",
      "12\n",
      "12\n"
     ]
    }
   ],
   "source": [
    "# Variable Scope\n",
    "a = 10 \n",
    "\n",
    "def display():\n",
    "    a = 5\n",
    "    print(a)\n",
    "    \n",
    "def display2():\n",
    "    global a\n",
    "    a = 12\n",
    "    print(a)\n",
    "    \n",
    "    \n",
    "display()\n",
    "print(a)\n",
    "display2()\n",
    "print(a)"
   ]
  },
  {
   "cell_type": "code",
   "execution_count": 1,
   "id": "38e0c385-c07c-48a5-b7ff-6dd3db87d3e3",
   "metadata": {},
   "outputs": [
    {
     "name": "stdout",
     "output_type": "stream",
     "text": [
      "30\n",
      "30\n",
      "10\n"
     ]
    }
   ],
   "source": [
    "a = 10\n",
    "def outer1(): \n",
    "    a = 20\n",
    "    def inner():\n",
    "        nonlocal a  \n",
    "        a = 30\n",
    "        print(a)\n",
    "        \n",
    "    inner() \n",
    "    print(a) \n",
    "  \n",
    "outer1()\n",
    "print(a)"
   ]
  },
  {
   "cell_type": "markdown",
   "id": "4710f29a-cd0b-4ed5-94f1-b168f13bb795",
   "metadata": {},
   "source": [
    "# Arithmetic Operators"
   ]
  },
  {
   "cell_type": "code",
   "execution_count": 3,
   "id": "6c0d6036-11fe-43ca-95bb-91463b5b0812",
   "metadata": {},
   "outputs": [
    {
     "data": {
      "text/plain": [
       "8"
      ]
     },
     "execution_count": 3,
     "metadata": {},
     "output_type": "execute_result"
    }
   ],
   "source": [
    "# Addition\n",
    "3 + 5"
   ]
  },
  {
   "cell_type": "code",
   "execution_count": 4,
   "id": "7c9e6ab0-617c-4f7c-ad0f-e97943b8a790",
   "metadata": {},
   "outputs": [
    {
     "data": {
      "text/plain": [
       "5"
      ]
     },
     "execution_count": 4,
     "metadata": {},
     "output_type": "execute_result"
    }
   ],
   "source": [
    "# Subtraction\n",
    "7 - 2"
   ]
  },
  {
   "cell_type": "code",
   "execution_count": 6,
   "id": "685fe8e3-349f-4805-a33b-1d0f5cab5c19",
   "metadata": {},
   "outputs": [
    {
     "data": {
      "text/plain": [
       "66"
      ]
     },
     "execution_count": 6,
     "metadata": {},
     "output_type": "execute_result"
    }
   ],
   "source": [
    "# Multiplication\n",
    "3 * 22"
   ]
  },
  {
   "cell_type": "code",
   "execution_count": 9,
   "id": "f9935656-479a-4e0d-97be-8eb97a713c40",
   "metadata": {},
   "outputs": [
    {
     "name": "stdout",
     "output_type": "stream",
     "text": [
      "33 / 7 =  4.714285714285714\n",
      "33 // 7 =  4\n",
      "33 % 7 =  5\n"
     ]
    }
   ],
   "source": [
    "# Division\n",
    "print(\"33 / 7 = \", 33/7)\n",
    "print(\"33 // 7 = \", 33//7) # Integer division\n",
    "print(\"33 % 7 = \", 33%7) # Reminder"
   ]
  },
  {
   "cell_type": "code",
   "execution_count": 10,
   "id": "d6b82b2d-7ae9-4da0-8b93-d7c865585e7d",
   "metadata": {},
   "outputs": [
    {
     "data": {
      "text/plain": [
       "'FirstSecond'"
      ]
     },
     "execution_count": 10,
     "metadata": {},
     "output_type": "execute_result"
    }
   ],
   "source": [
    "# String Arithmetic Operations\n",
    "\"First\" + \"Second\""
   ]
  },
  {
   "cell_type": "code",
   "execution_count": 12,
   "id": "97431887-b296-4a94-a711-f197a223a8db",
   "metadata": {},
   "outputs": [
    {
     "data": {
      "text/plain": [
       "'repeatrepeatrepeatrepeatrepeat'"
      ]
     },
     "execution_count": 12,
     "metadata": {},
     "output_type": "execute_result"
    }
   ],
   "source": [
    "\"repeat\" * 5"
   ]
  },
  {
   "cell_type": "markdown",
   "id": "6487a1f3-09c1-492b-a2bf-bea3ff6e94a8",
   "metadata": {},
   "source": [
    "# Comparison Operators"
   ]
  },
  {
   "cell_type": "code",
   "execution_count": 13,
   "id": "dea72dd6-7466-48cf-891e-2e4f6a6ed04c",
   "metadata": {},
   "outputs": [
    {
     "name": "stdout",
     "output_type": "stream",
     "text": [
      "True\n",
      "False\n",
      "False\n"
     ]
    }
   ],
   "source": [
    "print (45 > 15)\n",
    "print (45 < 15)\n",
    "print (45 == 15)"
   ]
  },
  {
   "cell_type": "code",
   "execution_count": 15,
   "id": "dc37fda5-24bb-4961-98c4-c00af0173bd1",
   "metadata": {},
   "outputs": [
    {
     "name": "stdout",
     "output_type": "stream",
     "text": [
      "True\n",
      "False\n"
     ]
    }
   ],
   "source": [
    "print (45 > 35 > 25)\n",
    "print (45 < 35 > 25)"
   ]
  },
  {
   "cell_type": "markdown",
   "id": "3ca5945d-4810-410e-a4b9-ec01ac647e0b",
   "metadata": {},
   "source": [
    "# Logical Operator "
   ]
  },
  {
   "cell_type": "code",
   "execution_count": 17,
   "id": "acd13efd-42bd-428e-83d4-3e7ae0adfd4e",
   "metadata": {},
   "outputs": [
    {
     "name": "stdout",
     "output_type": "stream",
     "text": [
      "False\n",
      "False\n",
      "15\n",
      "1\n",
      "0\n",
      "0\n",
      "0\n"
     ]
    }
   ],
   "source": [
    "# AND operator: Returns first False value; If nothing found, return the last value\n",
    "print (False and True)\n",
    "print (True and False)\n",
    "print (35 and 15)\n",
    "print (15 and 100 and 1)\n",
    "print (0 and 15)\n",
    "print (45 and 0 and 15)\n",
    "print (15 and 10 and 0)"
   ]
  },
  {
   "cell_type": "code",
   "execution_count": 21,
   "id": "302f44b7-2bd9-4ac7-9504-8b2b4b7f46f5",
   "metadata": {},
   "outputs": [
    {
     "name": "stdout",
     "output_type": "stream",
     "text": [
      "True\n",
      "True\n",
      "35\n",
      "15\n",
      "15\n",
      "45\n",
      "15\n"
     ]
    }
   ],
   "source": [
    "# OR operator: Returns first True value; If nothing found, return the last value\n",
    "print (False or True)\n",
    "print (False or True or False)\n",
    "print (35 or 15)\n",
    "print (15 or 100 or 1)\n",
    "print (0 or 15)\n",
    "print (45 or 0 or 15)\n",
    "print (15 or 10 or 0)"
   ]
  },
  {
   "cell_type": "markdown",
   "id": "7bd074cf-5f65-44d5-8888-c20b95c0e64e",
   "metadata": {},
   "source": [
    "# Variable names in Python"
   ]
  },
  {
   "cell_type": "markdown",
   "id": "4070e459-13fb-4125-9f47-0daae7806db7",
   "metadata": {},
   "source": [
    "### Variable names are case sentitive. 'A' is different from 'a'"
   ]
  },
  {
   "cell_type": "code",
   "execution_count": 22,
   "id": "dfbda081-541b-48ce-913c-a0b5d980cfd9",
   "metadata": {},
   "outputs": [
    {
     "name": "stdout",
     "output_type": "stream",
     "text": [
      "5 10\n"
     ]
    }
   ],
   "source": [
    "A = 5\n",
    "a = 10\n",
    "print(A,a)"
   ]
  },
  {
   "cell_type": "markdown",
   "id": "7643fbb9-c99b-4fe2-8b14-cf3fff6af7f9",
   "metadata": {},
   "source": [
    "### Variable names cannot start with special char except underscore(_)"
   ]
  },
  {
   "cell_type": "code",
   "execution_count": 24,
   "id": "78308c41-ca93-4a38-8f2b-334d2671c7a6",
   "metadata": {},
   "outputs": [
    {
     "ename": "SyntaxError",
     "evalue": "invalid syntax (<ipython-input-24-a969395b2005>, line 1)",
     "output_type": "error",
     "traceback": [
      "\u001b[0;36m  File \u001b[0;32m\"<ipython-input-24-a969395b2005>\"\u001b[0;36m, line \u001b[0;32m1\u001b[0m\n\u001b[0;31m    @A = \"test\"\u001b[0m\n\u001b[0m       ^\u001b[0m\n\u001b[0;31mSyntaxError\u001b[0m\u001b[0;31m:\u001b[0m invalid syntax\n"
     ]
    }
   ],
   "source": [
    "@A = \"test\""
   ]
  },
  {
   "cell_type": "code",
   "execution_count": 26,
   "id": "2f7b40d4-f7b7-446e-82fb-36f36fc76281",
   "metadata": {},
   "outputs": [],
   "source": [
    "_A = \"test\""
   ]
  },
  {
   "cell_type": "markdown",
   "id": "3ff09a40-95fd-4dc5-9549-1bbe9da9279e",
   "metadata": {},
   "source": [
    "### Variable names cannot start with a Number"
   ]
  },
  {
   "cell_type": "code",
   "execution_count": 28,
   "id": "42db15b2-d4e7-4c59-86b5-1e9f116e7285",
   "metadata": {},
   "outputs": [
    {
     "ename": "SyntaxError",
     "evalue": "invalid syntax (<ipython-input-28-e5db5a60c276>, line 1)",
     "output_type": "error",
     "traceback": [
      "\u001b[0;36m  File \u001b[0;32m\"<ipython-input-28-e5db5a60c276>\"\u001b[0;36m, line \u001b[0;32m1\u001b[0m\n\u001b[0;31m    1A = \"test\"\u001b[0m\n\u001b[0m     ^\u001b[0m\n\u001b[0;31mSyntaxError\u001b[0m\u001b[0;31m:\u001b[0m invalid syntax\n"
     ]
    }
   ],
   "source": [
    "1A = \"test\""
   ]
  },
  {
   "cell_type": "code",
   "execution_count": 29,
   "id": "bdc8b57b-7e7c-40f7-892b-c035b70ea9ff",
   "metadata": {},
   "outputs": [
    {
     "name": "stdout",
     "output_type": "stream",
     "text": [
      "11 5\n"
     ]
    }
   ],
   "source": [
    "# Variable Assignment\n",
    "a = 5\n",
    "b = a\n",
    "a = 11\n",
    "print(a,b)"
   ]
  },
  {
   "cell_type": "markdown",
   "id": "be556e1c-a732-48c4-b712-4ab8cddde553",
   "metadata": {},
   "source": [
    "# Data Types"
   ]
  },
  {
   "cell_type": "markdown",
   "id": "e3ded688-fc74-4e13-83a7-6b5b0a0efb7d",
   "metadata": {},
   "source": [
    "* Text Type:\tstr\n",
    "* Numeric Types:\tint, float, complex\n",
    "* Sequence Types:\tlist, tuple, range\n",
    "* Mapping Type:\tdict\n",
    "* Set Types:\tset, frozenset\n",
    "* Boolean Type:\tbool\n",
    "* Binary Types:\tbytes, bytearray, memoryview"
   ]
  },
  {
   "cell_type": "code",
   "execution_count": 54,
   "id": "7093bca0-36a5-4b57-9777-0be9298c1da0",
   "metadata": {},
   "outputs": [
    {
     "name": "stdout",
     "output_type": "stream",
     "text": [
      "<class 'int'>\n",
      "<class 'float'>\n",
      "<class 'complex'>\n",
      "<class 'bool'>\n",
      "<class 'str'>\n",
      "<class 'str'>\n",
      "<class 'list'>\n",
      "<class 'tuple'>\n",
      "<class 'range'>\n"
     ]
    }
   ],
   "source": [
    "print(type(10))\n",
    "print(type(10.45))\n",
    "print(type(3 + 1j))\n",
    "print(type(True))\n",
    "print(type(\"A\"))\n",
    "print(type(\"This is a sentence\"))\n",
    "print(type([1,2,3]))\n",
    "print(type((1,2,)))\n",
    "print(type(range(5)))"
   ]
  },
  {
   "cell_type": "markdown",
   "id": "21497b4e-3b2a-4b39-9507-b6717514ecc6",
   "metadata": {},
   "source": [
    "# Conditional Statements"
   ]
  },
  {
   "cell_type": "code",
   "execution_count": 56,
   "id": "4319c016-50ae-4a90-bbbe-42859f75f8b9",
   "metadata": {},
   "outputs": [
    {
     "name": "stdout",
     "output_type": "stream",
     "text": [
      "Equal to five\n"
     ]
    }
   ],
   "source": [
    "# IF - ELIF - ELSE Statement\n",
    "x = 5\n",
    "if (x < 5):\n",
    "    print (\"Less than five\")\n",
    "elif (x > 5):\n",
    "    print (\"Greater than five\")\n",
    "else:\n",
    "    print(\"Equal to five\")"
   ]
  },
  {
   "cell_type": "code",
   "execution_count": 59,
   "id": "46ef495f-fc49-48b9-a2fe-c8215a1cc7fe",
   "metadata": {},
   "outputs": [
    {
     "name": "stdout",
     "output_type": "stream",
     "text": [
      "even\n"
     ]
    }
   ],
   "source": [
    "x = 10\n",
    "if (x % 2 > 0):\n",
    "    print(\"Odd\")\n",
    "else:\n",
    "    print(\"even\")"
   ]
  },
  {
   "cell_type": "markdown",
   "id": "3c2f20e9-bc24-43cd-a468-d470654e3d55",
   "metadata": {},
   "source": [
    "# Looping Structure"
   ]
  },
  {
   "cell_type": "code",
   "execution_count": 64,
   "id": "5946155a-71eb-40ef-8282-fcbd3a67c93b",
   "metadata": {},
   "outputs": [
    {
     "name": "stdout",
     "output_type": "stream",
     "text": [
      "0 is a even number\n",
      "1 is a odd number\n",
      "2 is a even number\n",
      "3 is a odd number\n",
      "4 is a even number\n"
     ]
    }
   ],
   "source": [
    "# For loop\n",
    "for i in range(5):\n",
    "    if i % 2 == 0:\n",
    "        print(\"{0} is a {1} number\".format(i, \"even\"))\n",
    "    else:\n",
    "        print(\"{0} is a {1} number\".format(i, \"odd\"))"
   ]
  },
  {
   "cell_type": "code",
   "execution_count": 68,
   "id": "9cfff083-22ef-474f-b2e5-9b75b303f369",
   "metadata": {},
   "outputs": [
    {
     "name": "stdout",
     "output_type": "stream",
     "text": [
      "S\n",
      " \n",
      "N\n",
      "T\n",
      "L\n",
      "E\n",
      "I\n",
      "A\n",
      "H\n"
     ]
    }
   ],
   "source": [
    "for i in set(\"THIS IS A LINE\"):\n",
    "    print(i)"
   ]
  },
  {
   "cell_type": "code",
   "execution_count": 72,
   "id": "59755d5c-d47e-4f7c-91f7-1cf99dd513e7",
   "metadata": {},
   "outputs": [
    {
     "name": "stdout",
     "output_type": "stream",
     "text": [
      "11\n",
      "13\n",
      "15\n",
      "17\n",
      "19\n",
      "21\n",
      "23\n",
      "25\n",
      "27\n",
      "29\n",
      "31\n",
      "33\n",
      "35\n",
      "37\n",
      "39\n",
      "41\n",
      "43\n",
      "45\n",
      "47\n",
      "49\n"
     ]
    }
   ],
   "source": [
    "# Printing Odd numbers between 10 to 50\n",
    "for i in range(11,50,2):\n",
    "    print(i)"
   ]
  },
  {
   "cell_type": "code",
   "execution_count": null,
   "id": "e201703b-85ec-4641-8966-df9072b2e53f",
   "metadata": {},
   "outputs": [],
   "source": []
  }
 ],
 "metadata": {
  "kernelspec": {
   "display_name": "Python 3",
   "language": "python",
   "name": "python3"
  },
  "language_info": {
   "codemirror_mode": {
    "name": "ipython",
    "version": 3
   },
   "file_extension": ".py",
   "mimetype": "text/x-python",
   "name": "python",
   "nbconvert_exporter": "python",
   "pygments_lexer": "ipython3",
   "version": "3.7.10"
  }
 },
 "nbformat": 4,
 "nbformat_minor": 5
}
