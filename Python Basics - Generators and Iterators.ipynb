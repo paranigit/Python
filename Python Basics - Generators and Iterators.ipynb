{
 "cells": [
  {
   "cell_type": "markdown",
   "id": "85ad00dc",
   "metadata": {},
   "source": [
    "## Iterator\n",
    "\n",
    "An iterator is an object that enables a programmer to traverse a container, particularly lists."
   ]
  },
  {
   "cell_type": "markdown",
   "id": "3c509ebd",
   "metadata": {},
   "source": [
    "> Iterable (a list) -> iter(Iterable) -> iterator -> next(iterator)"
   ]
  },
  {
   "cell_type": "code",
   "execution_count": 15,
   "id": "3906e255",
   "metadata": {},
   "outputs": [
    {
     "data": {
      "text/plain": [
       "<list_iterator at 0x10f644d50>"
      ]
     },
     "execution_count": 15,
     "metadata": {},
     "output_type": "execute_result"
    }
   ],
   "source": [
    "my_list = [1,2,3,5,8,13]\n",
    "\n",
    "# converting to a list_iterator with iter()\n",
    "\n",
    "list_iter = iter(my_list)\n",
    "list_iter"
   ]
  },
  {
   "cell_type": "code",
   "execution_count": 16,
   "id": "cc821178",
   "metadata": {},
   "outputs": [
    {
     "data": {
      "text/plain": [
       "1"
      ]
     },
     "execution_count": 16,
     "metadata": {},
     "output_type": "execute_result"
    }
   ],
   "source": [
    "next(list_iter)"
   ]
  },
  {
   "cell_type": "code",
   "execution_count": 18,
   "id": "1bf4c7a0",
   "metadata": {},
   "outputs": [
    {
     "name": "stdout",
     "output_type": "stream",
     "text": [
      "2\n",
      "3\n",
      "5\n",
      "8\n",
      "13\n"
     ]
    }
   ],
   "source": [
    "while True:\n",
    "    try:\n",
    "        print(next(list_iter))\n",
    "    except:\n",
    "        break"
   ]
  },
  {
   "cell_type": "markdown",
   "id": "daf88751",
   "metadata": {},
   "source": [
    "## Generators\n",
    "\n",
    "* Python generators are a simple way of creating iterators.\n",
    "* It is a function that returns an object (iterator) which we can iterate over (one value at a time). \n",
    "* Generators are lazy-evaluated: a process in which an object is evaluated when it is needed, not when it is created.\n",
    "* Generators do not store all the values in memory. \n",
    "* They yield one result at a time. \n",
    "* They are best for calculating large result sets where you don’t want to allocate the memory for all results at the same time."
   ]
  },
  {
   "cell_type": "markdown",
   "id": "30e7af44",
   "metadata": {},
   "source": [
    "### *yield* keyword\n",
    "\n",
    "* Yield simply produces a sequence of values. \n",
    "* We generally use yield when we want to iterate over a sequence, but the idea is that the yield method doesn’t store the entire sequence in memory but executes only when they are told. \n",
    "* Note that you can have multiple yield statements inside a function but you cannot have multiple returns."
   ]
  },
  {
   "cell_type": "code",
   "execution_count": 19,
   "id": "4e73b16b",
   "metadata": {},
   "outputs": [],
   "source": [
    "def square(my_list):\n",
    "    for i in my_list:\n",
    "        yield i**2"
   ]
  },
  {
   "cell_type": "code",
   "execution_count": 20,
   "id": "effbc87e",
   "metadata": {},
   "outputs": [
    {
     "data": {
      "text/plain": [
       "<generator object square at 0x10f2e7950>"
      ]
     },
     "execution_count": 20,
     "metadata": {},
     "output_type": "execute_result"
    }
   ],
   "source": [
    "final = square([1,2,3,4,5])\n",
    "final"
   ]
  },
  {
   "cell_type": "code",
   "execution_count": 21,
   "id": "9a4f6703",
   "metadata": {},
   "outputs": [
    {
     "data": {
      "text/plain": [
       "1"
      ]
     },
     "execution_count": 21,
     "metadata": {},
     "output_type": "execute_result"
    }
   ],
   "source": [
    "next(final)"
   ]
  },
  {
   "cell_type": "code",
   "execution_count": 22,
   "id": "8ad4c6fe",
   "metadata": {},
   "outputs": [
    {
     "name": "stdout",
     "output_type": "stream",
     "text": [
      "4\n",
      "9\n",
      "16\n",
      "25\n"
     ]
    }
   ],
   "source": [
    "while True:\n",
    "    try:\n",
    "        print(next(final))\n",
    "    except:\n",
    "        break"
   ]
  },
  {
   "cell_type": "code",
   "execution_count": null,
   "id": "16f86a40",
   "metadata": {},
   "outputs": [],
   "source": []
  }
 ],
 "metadata": {
  "kernelspec": {
   "display_name": "Python 3",
   "language": "python",
   "name": "python3"
  },
  "language_info": {
   "codemirror_mode": {
    "name": "ipython",
    "version": 3
   },
   "file_extension": ".py",
   "mimetype": "text/x-python",
   "name": "python",
   "nbconvert_exporter": "python",
   "pygments_lexer": "ipython3",
   "version": "3.7.10"
  }
 },
 "nbformat": 4,
 "nbformat_minor": 5
}
