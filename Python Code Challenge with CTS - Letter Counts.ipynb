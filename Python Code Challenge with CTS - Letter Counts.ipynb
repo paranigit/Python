{
 "cells": [
  {
   "cell_type": "code",
   "execution_count": 1,
   "id": "e6392094",
   "metadata": {
    "scrolled": true
   },
   "outputs": [],
   "source": [
    "text = \"This is a sample text for the challenge\""
   ]
  },
  {
   "cell_type": "code",
   "execution_count": 22,
   "id": "a1f4cff6",
   "metadata": {},
   "outputs": [],
   "source": [
    "def get_letter_counts(text):\n",
    "    letters = list(text) # Converts words to letter\n",
    "    letter_counts = {}\n",
    "    for letter in letters:\n",
    "        if letter in letter_counts.keys():\n",
    "            letter_counts[letter] += 1\n",
    "        else:\n",
    "            letter_counts[letter] = 1\n",
    "\n",
    "    return letter_counts"
   ]
  },
  {
   "cell_type": "code",
   "execution_count": 26,
   "id": "c3bef7ba",
   "metadata": {},
   "outputs": [
    {
     "name": "stdout",
     "output_type": "stream",
     "text": [
      "This is a sample text for the challenge\n",
      "{'T': 1, 'h': 3, 'i': 2, 's': 3, ' ': 7, 'a': 3, 'm': 1, 'p': 1, 'l': 3, 'e': 5, 't': 3, 'x': 1, 'f': 1, 'o': 1, 'r': 1, 'c': 1, 'n': 1, 'g': 1}\n",
      "\n",
      " Without Space\n",
      "Thisisasampletextforthechallenge\n",
      "{'T': 1, 'h': 3, 'i': 2, 's': 3, 'a': 3, 'm': 1, 'p': 1, 'l': 3, 'e': 5, 't': 3, 'x': 1, 'f': 1, 'o': 1, 'r': 1, 'c': 1, 'n': 1, 'g': 1}\n"
     ]
    }
   ],
   "source": [
    "# Skip space\n",
    "text_without_space = ''.join(x if x != \" \" else \"\" for x in list(text))\n",
    "print(text)\n",
    "print(get_letter_counts(text))\n",
    "print(\"\\n Without Space\")\n",
    "print(text_without_space)\n",
    "print(get_letter_counts(text_without_space))"
   ]
  }
 ],
 "metadata": {
  "kernelspec": {
   "display_name": "ml-modeling",
   "language": "python",
   "name": "ml-modeling"
  },
  "language_info": {
   "codemirror_mode": {
    "name": "ipython",
    "version": 3
   },
   "file_extension": ".py",
   "mimetype": "text/x-python",
   "name": "python",
   "nbconvert_exporter": "python",
   "pygments_lexer": "ipython3",
   "version": "3.7.10"
  }
 },
 "nbformat": 4,
 "nbformat_minor": 5
}
