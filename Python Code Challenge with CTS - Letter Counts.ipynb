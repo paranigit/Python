{
 "cells": [
  {
   "cell_type": "code",
   "execution_count": 1,
   "id": "e6392094",
   "metadata": {
    "scrolled": true
   },
   "outputs": [],
   "source": [
    "text = \"This is a sample text for the challenge\""
   ]
  },
  {
   "cell_type": "code",
   "execution_count": 2,
   "id": "a1f4cff6",
   "metadata": {},
   "outputs": [],
   "source": [
    "def get_letter_counts(text):\n",
    "    letters = list(text) # Converts words to letter\n",
    "    letter_counts = {}\n",
    "    for letter in letters:\n",
    "        if letter in letter_counts.keys():\n",
    "            letter_counts[letter] += 1\n",
    "        else:\n",
    "            letter_counts[letter] = 1\n",
    "\n",
    "    return letter_counts"
   ]
  },
  {
   "cell_type": "code",
   "execution_count": 6,
   "id": "c3bef7ba",
   "metadata": {},
   "outputs": [
    {
     "name": "stdout",
     "output_type": "stream",
     "text": [
      "This is a sample text for the challenge\n",
      "{'T': 1, 'h': 3, 'i': 2, 's': 3, ' ': 7, 'a': 3, 'm': 1, 'p': 1, 'l': 3, 'e': 5, 't': 3, 'x': 1, 'f': 1, 'o': 1, 'r': 1, 'c': 1, 'n': 1, 'g': 1}\n",
      "\n",
      " Without Space\n",
      "Thisisasampletextforthechallenge\n",
      "{'T': 1, 'h': 3, 'i': 2, 's': 3, 'a': 3, 'm': 1, 'p': 1, 'l': 3, 'e': 5, 't': 3, 'x': 1, 'f': 1, 'o': 1, 'r': 1, 'c': 1, 'n': 1, 'g': 1}\n"
     ]
    }
   ],
   "source": [
    "# Skip space\n",
    "text_without_space = ''.join(x if x != \" \" else \"\" for x in list(text))\n",
    "print(text)\n",
    "letter_counts = get_letter_counts(text)\n",
    "print(get_letter_counts(text))\n",
    "print(\"\\n Without Space\")\n",
    "print(text_without_space)\n",
    "print(get_letter_counts(text_without_space))"
   ]
  },
  {
   "cell_type": "code",
   "execution_count": 17,
   "id": "fff1a7e9",
   "metadata": {},
   "outputs": [
    {
     "name": "stdout",
     "output_type": "stream",
     "text": [
      "T 1\n",
      "h 3\n",
      "i 2\n",
      "s 3\n",
      "  7\n",
      "a 3\n",
      "m 1\n",
      "p 1\n",
      "l 3\n",
      "e 5\n",
      "t 3\n",
      "x 1\n",
      "f 1\n",
      "o 1\n",
      "r 1\n",
      "c 1\n",
      "n 1\n",
      "g 1\n"
     ]
    }
   ],
   "source": [
    "for k, v in letter_counts.items():\n",
    "    print(k, v)"
   ]
  },
  {
   "cell_type": "code",
   "execution_count": null,
   "id": "40daa8b2",
   "metadata": {},
   "outputs": [],
   "source": []
  }
 ],
 "metadata": {
  "kernelspec": {
   "display_name": "ml-modeling",
   "language": "python",
   "name": "ml-modeling"
  },
  "language_info": {
   "codemirror_mode": {
    "name": "ipython",
    "version": 3
   },
   "file_extension": ".py",
   "mimetype": "text/x-python",
   "name": "python",
   "nbconvert_exporter": "python",
   "pygments_lexer": "ipython3",
   "version": "3.7.10"
  }
 },
 "nbformat": 4,
 "nbformat_minor": 5
}
