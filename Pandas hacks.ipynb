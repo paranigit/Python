{
 "cells": [
  {
   "cell_type": "code",
   "execution_count": 1,
   "id": "difficult-lawyer",
   "metadata": {},
   "outputs": [],
   "source": [
    "import pandas as pd\n",
    "import numpy as np"
   ]
  },
  {
   "cell_type": "code",
   "execution_count": 8,
   "id": "friendly-yukon",
   "metadata": {},
   "outputs": [
    {
     "name": "stdout",
     "output_type": "stream",
     "text": [
      "      name     dept\n",
      "0     JACK       IT\n",
      "1     MICK       HR\n",
      "2    LEENA  FINANCE\n",
      "3   HARVEY       IT\n",
      "4    DONNA       IT\n",
      "5  JESSICA       HR\n"
     ]
    },
    {
     "data": {
      "text/html": [
       "<div>\n",
       "<style scoped>\n",
       "    .dataframe tbody tr th:only-of-type {\n",
       "        vertical-align: middle;\n",
       "    }\n",
       "\n",
       "    .dataframe tbody tr th {\n",
       "        vertical-align: top;\n",
       "    }\n",
       "\n",
       "    .dataframe thead th {\n",
       "        text-align: right;\n",
       "    }\n",
       "</style>\n",
       "<table border=\"1\" class=\"dataframe\">\n",
       "  <thead>\n",
       "    <tr style=\"text-align: right;\">\n",
       "      <th></th>\n",
       "      <th>name</th>\n",
       "      <th>dept</th>\n",
       "      <th>dept_ordinal</th>\n",
       "    </tr>\n",
       "  </thead>\n",
       "  <tbody>\n",
       "    <tr>\n",
       "      <th>0</th>\n",
       "      <td>JACK</td>\n",
       "      <td>IT</td>\n",
       "      <td>1</td>\n",
       "    </tr>\n",
       "    <tr>\n",
       "      <th>1</th>\n",
       "      <td>MICK</td>\n",
       "      <td>HR</td>\n",
       "      <td>2</td>\n",
       "    </tr>\n",
       "    <tr>\n",
       "      <th>2</th>\n",
       "      <td>LEENA</td>\n",
       "      <td>FINANCE</td>\n",
       "      <td>3</td>\n",
       "    </tr>\n",
       "    <tr>\n",
       "      <th>3</th>\n",
       "      <td>HARVEY</td>\n",
       "      <td>IT</td>\n",
       "      <td>1</td>\n",
       "    </tr>\n",
       "    <tr>\n",
       "      <th>4</th>\n",
       "      <td>DONNA</td>\n",
       "      <td>IT</td>\n",
       "      <td>1</td>\n",
       "    </tr>\n",
       "    <tr>\n",
       "      <th>5</th>\n",
       "      <td>JESSICA</td>\n",
       "      <td>HR</td>\n",
       "      <td>2</td>\n",
       "    </tr>\n",
       "  </tbody>\n",
       "</table>\n",
       "</div>"
      ],
      "text/plain": [
       "      name     dept  dept_ordinal\n",
       "0     JACK       IT             1\n",
       "1     MICK       HR             2\n",
       "2    LEENA  FINANCE             3\n",
       "3   HARVEY       IT             1\n",
       "4    DONNA       IT             1\n",
       "5  JESSICA       HR             2"
      ]
     },
     "execution_count": 8,
     "metadata": {},
     "output_type": "execute_result"
    }
   ],
   "source": [
    "# Replace a column with Ordinal or integer dictionary\n",
    "\n",
    "df = pd.DataFrame([\n",
    "    {\"name\":\"JACK\", \"dept\": \"IT\"},\n",
    "    {\"name\":\"MICK\", \"dept\": \"HR\"},\n",
    "    {\"name\":\"LEENA\", \"dept\": \"FINANCE\"},\n",
    "    {\"name\":\"HARVEY\", \"dept\": \"IT\"},\n",
    "    {\"name\":\"DONNA\", \"dept\": \"IT\"},\n",
    "    {\"name\":\"JESSICA\", \"dept\": \"HR\"}\n",
    "])\n",
    "\n",
    "print(df)\n",
    "\n",
    "dept = {\"IT\": 1, \"HR\": 2, \"FINANCE\": 3}\n",
    "df[\"dept_ordinal\"] = df.dept.map(dept)\n",
    "\n",
    "df"
   ]
  },
  {
   "cell_type": "code",
   "execution_count": null,
   "id": "comfortable-hamilton",
   "metadata": {},
   "outputs": [],
   "source": []
  }
 ],
 "metadata": {
  "kernelspec": {
   "display_name": "azure-ml",
   "language": "python",
   "name": "azure-ml"
  },
  "language_info": {
   "codemirror_mode": {
    "name": "ipython",
    "version": 3
   },
   "file_extension": ".py",
   "mimetype": "text/x-python",
   "name": "python",
   "nbconvert_exporter": "python",
   "pygments_lexer": "ipython3",
   "version": "3.8.7"
  }
 },
 "nbformat": 4,
 "nbformat_minor": 5
}
