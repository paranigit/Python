{
 "cells": [
  {
   "cell_type": "code",
   "execution_count": 1,
   "id": "53944f94-bb74-43c6-8641-e972081fcf22",
   "metadata": {},
   "outputs": [],
   "source": [
    "import numpy as np\n",
    "from sklearn.feature_extraction.text import CountVectorizer\n",
    "from sklearn.feature_extraction.text import TfidfTransformer\n",
    "from sklearn.neighbors import KNeighborsClassifier\n",
    "from sklearn.pipeline import Pipeline"
   ]
  },
  {
   "cell_type": "code",
   "execution_count": 2,
   "id": "d4e37026-acfd-45b5-a73f-7e69fb32e67f",
   "metadata": {},
   "outputs": [],
   "source": [
    "# Import Dataset\n",
    "from sklearn.datasets import fetch_20newsgroups"
   ]
  },
  {
   "cell_type": "code",
   "execution_count": 3,
   "id": "dcf7e3a5-1b8a-430d-ba5c-33fae9c4c6bf",
   "metadata": {},
   "outputs": [],
   "source": [
    "# We defined the categories which we want to classify\n",
    "categories = ['rec.motorcycles', 'sci.electronics', 'comp.graphics', 'sci.med']"
   ]
  },
  {
   "cell_type": "code",
   "execution_count": 4,
   "id": "fcfe5fab-7f8e-457a-9587-58f56b041092",
   "metadata": {},
   "outputs": [
    {
     "data": {
      "text/plain": [
       "['rec.motorcycles', 'sci.electronics', 'comp.graphics', 'sci.med']"
      ]
     },
     "execution_count": 4,
     "metadata": {},
     "output_type": "execute_result"
    }
   ],
   "source": [
    "categories"
   ]
  },
  {
   "cell_type": "code",
   "execution_count": 5,
   "id": "24391fb8-12b1-4009-8a63-9003fbd9a00c",
   "metadata": {},
   "outputs": [],
   "source": [
    "# sklearn provides us with subset data for training and testing\n",
    "train_data = fetch_20newsgroups(subset='train',\n",
    "                                categories=categories, shuffle=True, random_state=42)"
   ]
  },
  {
   "cell_type": "code",
   "execution_count": 7,
   "id": "31a07bec-c18d-44eb-8062-76d8bf7246d1",
   "metadata": {},
   "outputs": [
    {
     "data": {
      "text/plain": [
       "sklearn.utils.Bunch"
      ]
     },
     "execution_count": 7,
     "metadata": {},
     "output_type": "execute_result"
    }
   ],
   "source": [
    "type(train_data)"
   ]
  },
  {
   "cell_type": "code",
   "execution_count": 8,
   "id": "97e979ae-fa5a-40ef-9101-8effc9063409",
   "metadata": {},
   "outputs": [
    {
     "name": "stdout",
     "output_type": "stream",
     "text": [
      "['comp.graphics', 'rec.motorcycles', 'sci.electronics', 'sci.med']\n"
     ]
    }
   ],
   "source": [
    "print(train_data.target_names)"
   ]
  },
  {
   "cell_type": "code",
   "execution_count": 13,
   "id": "90f412d5-7b7d-43e2-b148-121fb76afc89",
   "metadata": {},
   "outputs": [
    {
     "name": "stdout",
     "output_type": "stream",
     "text": [
      "comp.graphics\n",
      "comp.graphics\n",
      "rec.motorcycles\n",
      "comp.graphics\n",
      "sci.med\n",
      "sci.electronics\n",
      "sci.electronics\n",
      "comp.graphics\n",
      "rec.motorcycles\n",
      "sci.electronics\n"
     ]
    }
   ],
   "source": [
    "# Let's look at categories of our first ten training data\n",
    "for t in train_data.target[:10]:\n",
    "    print(train_data.target_names[t])"
   ]
  },
  {
   "cell_type": "code",
   "execution_count": 30,
   "id": "8fee51eb-2040-4e75-a32b-127a551ff84b",
   "metadata": {},
   "outputs": [
    {
     "name": "stdout",
     "output_type": "stream",
     "text": [
      "There are 2367 documents present in the training dataset\n"
     ]
    }
   ],
   "source": [
    "print(\"There are {0} documents present in the training dataset\".format(len(train_data.data)))"
   ]
  },
  {
   "cell_type": "code",
   "execution_count": 16,
   "id": "cf764eab-97ac-4d9f-8168-5adf2c1498ce",
   "metadata": {},
   "outputs": [
    {
     "name": "stdout",
     "output_type": "stream",
     "text": [
      "From: kreyling@lds.loral.com (Ed Kreyling 6966)\n",
      "Subject: Sun-os and 8bit ASCII graphics\n",
      "Organization: Loral Data Systems\n",
      "comp.graphics\n"
     ]
    }
   ],
   "source": [
    "# Lets print the first 3 rows of first doc\n",
    "print(\"\\n\".join(train_data.data[0].split(\"\\n\")[:3]))\n",
    "print(train_data.target_names[train_data.target[0]])"
   ]
  },
  {
   "cell_type": "code",
   "execution_count": 35,
   "id": "65a37bb1-c62e-432b-ae50-308faff64857",
   "metadata": {},
   "outputs": [],
   "source": [
    "# Builds a dictionary of features and transforms documents to feature vectors and convert our text documents to a\n",
    "# matrix of token counts (CountVectorizer)\n",
    "count_vect = CountVectorizer()\n",
    "X_train_counts = count_vect.fit_transform(train_data.data)"
   ]
  },
  {
   "cell_type": "code",
   "execution_count": 39,
   "id": "3ce3eda7-dca9-48ec-8fb4-e78e7d7de2b5",
   "metadata": {},
   "outputs": [
    {
     "name": "stdout",
     "output_type": "stream",
     "text": [
      "There are 35653 words/features present\n"
     ]
    }
   ],
   "source": [
    "print(\"There are {0} words/features present\".format(len(count_vect.get_feature_names())))"
   ]
  },
  {
   "cell_type": "code",
   "execution_count": 42,
   "id": "7750793c-807d-4985-bb35-64dd0a0114b7",
   "metadata": {},
   "outputs": [
    {
     "name": "stdout",
     "output_type": "stream",
     "text": [
      "<class 'scipy.sparse.csr.csr_matrix'>\n",
      "(2367, 35653)\n"
     ]
    }
   ],
   "source": [
    "# Print the type of output and shape of it\n",
    "print(type(X_train_counts))\n",
    "print(X_train_counts.shape)"
   ]
  },
  {
   "cell_type": "code",
   "execution_count": 43,
   "id": "c1556880-1358-4419-9883-09ecb453bfcd",
   "metadata": {},
   "outputs": [],
   "source": [
    "# Transform a count matrix to a normalized tf-idf representation (tf-idf transformer)\n",
    "tfidf_transformer = TfidfTransformer()\n",
    "X_train_tfidf = tfidf_transformer.fit_transform(X_train_counts)"
   ]
  },
  {
   "cell_type": "code",
   "execution_count": 45,
   "id": "50379191-3940-4f21-8043-8982da738180",
   "metadata": {},
   "outputs": [],
   "source": [
    "# KNN Classifier\n",
    "knn = KNeighborsClassifier(n_neighbors=7)\n",
    "\n",
    "# training our classifier ; train_data.target will be having numbers assigned for each category in train data\n",
    "clf = knn.fit(X_train_tfidf, train_data.target)"
   ]
  },
  {
   "cell_type": "code",
   "execution_count": 46,
   "id": "5cbcd3f1-eadc-4f5e-8e11-21083258d388",
   "metadata": {},
   "outputs": [],
   "source": [
    "# Input Data to predict their classes of the given categories\n",
    "docs_new = ['I have a Harley Davidson and Yamaha.', 'I have a GTX 1050 GPU']"
   ]
  },
  {
   "cell_type": "code",
   "execution_count": 47,
   "id": "6ec65465-bb69-48bd-99c2-69d8fd5d256a",
   "metadata": {},
   "outputs": [],
   "source": [
    "# building up feature vector of our input\n",
    "X_new_counts = count_vect.transform(docs_new)"
   ]
  },
  {
   "cell_type": "code",
   "execution_count": 48,
   "id": "e1d84002-92c0-43d5-a904-57e4221b2125",
   "metadata": {},
   "outputs": [],
   "source": [
    "# We call transform instead of fit_transform because it's already been fit\n",
    "X_new_tfidf = tfidf_transformer.transform(X_new_counts)"
   ]
  },
  {
   "cell_type": "code",
   "execution_count": 49,
   "id": "869b26ec-7903-4a78-9719-adc6da996edf",
   "metadata": {},
   "outputs": [],
   "source": [
    "# predicting the category of our input text: Will give out number for category\n",
    "predicted = clf.predict(X_new_tfidf)"
   ]
  },
  {
   "cell_type": "code",
   "execution_count": 50,
   "id": "69cd93fa-94c1-4d4c-9d73-c98bb0c7b80b",
   "metadata": {},
   "outputs": [
    {
     "name": "stdout",
     "output_type": "stream",
     "text": [
      "'I have a Harley Davidson and Yamaha.' => rec.motorcycles\n",
      "'I have a GTX 1050 GPU' => sci.med\n"
     ]
    }
   ],
   "source": [
    "for doc, category in zip(docs_new, predicted):\n",
    "    print('%r => %s' % (doc, train_data.target_names[category]))"
   ]
  },
  {
   "cell_type": "code",
   "execution_count": null,
   "id": "00f8c3c5-c08a-437a-95b2-de89cb94ce5a",
   "metadata": {},
   "outputs": [],
   "source": [
    "# We can use Pipeline to add vectorizer -> transformer -> classifier all in a one compound classifier\n",
    "text_clf = Pipeline([\n",
    "    ('vect', CountVectorizer()),\n",
    "    ('tfidf', TfidfTransformer()),\n",
    "    ('clf', knn),\n",
    "])"
   ]
  }
 ],
 "metadata": {
  "kernelspec": {
   "display_name": "ml-modeling",
   "language": "python",
   "name": "ml-modeling"
  },
  "language_info": {
   "codemirror_mode": {
    "name": "ipython",
    "version": 3
   },
   "file_extension": ".py",
   "mimetype": "text/x-python",
   "name": "python",
   "nbconvert_exporter": "python",
   "pygments_lexer": "ipython3",
   "version": "3.7.10"
  }
 },
 "nbformat": 4,
 "nbformat_minor": 5
}
