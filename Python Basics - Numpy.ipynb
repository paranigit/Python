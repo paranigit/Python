{
 "cells": [
  {
   "cell_type": "markdown",
   "id": "c0ca4ba8",
   "metadata": {},
   "source": [
    "## Python ML Basics"
   ]
  },
  {
   "cell_type": "code",
   "execution_count": 1,
   "id": "8ae8a03d",
   "metadata": {},
   "outputs": [
    {
     "name": "stdout",
     "output_type": "stream",
     "text": [
      "Python 3.9.4\r\n"
     ]
    }
   ],
   "source": [
    "!python -V"
   ]
  },
  {
   "cell_type": "code",
   "execution_count": 2,
   "id": "9dee55a6",
   "metadata": {},
   "outputs": [],
   "source": [
    "import numpy as np"
   ]
  },
  {
   "cell_type": "code",
   "execution_count": 3,
   "id": "ab9dff63",
   "metadata": {},
   "outputs": [
    {
     "data": {
      "text/plain": [
       "'1.19.5'"
      ]
     },
     "execution_count": 3,
     "metadata": {},
     "output_type": "execute_result"
    }
   ],
   "source": [
    "np.__version__"
   ]
  },
  {
   "cell_type": "markdown",
   "id": "2dcc790d",
   "metadata": {},
   "source": [
    "## NumPy - Numerical Python"
   ]
  },
  {
   "cell_type": "code",
   "execution_count": 114,
   "id": "90eca207",
   "metadata": {},
   "outputs": [
    {
     "name": "stdout",
     "output_type": "stream",
     "text": [
      "[1 2 3]\n",
      "<class 'numpy.ndarray'>\n",
      "int64\n",
      "(3,)\n"
     ]
    }
   ],
   "source": [
    "# Convert a list to array\n",
    "lst = [1,2,3]\n",
    "a = np.array(lst)\n",
    "print(a)\n",
    "print(type(a))\n",
    "print(a.dtype)\n",
    "print(a.shape)"
   ]
  },
  {
   "cell_type": "code",
   "execution_count": 18,
   "id": "00971cf2",
   "metadata": {},
   "outputs": [
    {
     "name": "stdout",
     "output_type": "stream",
     "text": [
      "[1, 'ABC', 2.5]\n",
      "['1' 'ABC' '2.5']\n",
      "<class 'numpy.ndarray'>\n",
      "<U21\n"
     ]
    }
   ],
   "source": [
    "lst2 = [1, \"ABC\", 2.5]\n",
    "print(lst2)\n",
    "b = np.array(lst2)\n",
    "print(b)\n",
    "print(type(b))\n",
    "print(b.dtype)"
   ]
  },
  {
   "cell_type": "markdown",
   "id": "3e23b13b",
   "metadata": {},
   "source": [
    "### Create arrays"
   ]
  },
  {
   "cell_type": "code",
   "execution_count": 8,
   "id": "e9de67a6",
   "metadata": {},
   "outputs": [
    {
     "data": {
      "text/plain": [
       "array([1, 2, 3, 4, 5, 6, 7, 8, 9])"
      ]
     },
     "execution_count": 8,
     "metadata": {},
     "output_type": "execute_result"
    }
   ],
   "source": [
    "# Create with Range\n",
    "np.arange(1,10)"
   ]
  },
  {
   "cell_type": "code",
   "execution_count": 19,
   "id": "1a867fdc",
   "metadata": {},
   "outputs": [
    {
     "data": {
      "text/plain": [
       "array([1, 3, 5, 7, 9])"
      ]
     },
     "execution_count": 19,
     "metadata": {},
     "output_type": "execute_result"
    }
   ],
   "source": [
    "# Create with Range and step\n",
    "np.arange(1,10,2)"
   ]
  },
  {
   "cell_type": "code",
   "execution_count": 21,
   "id": "fed350f2",
   "metadata": {},
   "outputs": [
    {
     "data": {
      "text/plain": [
       "array([0., 0., 0., 0., 0.])"
      ]
     },
     "execution_count": 21,
     "metadata": {},
     "output_type": "execute_result"
    }
   ],
   "source": [
    "np.zeros(5)"
   ]
  },
  {
   "cell_type": "code",
   "execution_count": 24,
   "id": "cc1e42cd",
   "metadata": {},
   "outputs": [
    {
     "data": {
      "text/plain": [
       "array([[0., 0., 0.],\n",
       "       [0., 0., 0.]])"
      ]
     },
     "execution_count": 24,
     "metadata": {},
     "output_type": "execute_result"
    }
   ],
   "source": [
    "# Array with row & col nos\n",
    "np.zeros((2,3)) # 2 rows 3 Cols"
   ]
  },
  {
   "cell_type": "code",
   "execution_count": 27,
   "id": "e11d2f64",
   "metadata": {},
   "outputs": [
    {
     "data": {
      "text/plain": [
       "array([[0., 0., 0., 0., 0., 0.],\n",
       "       [0., 0., 0., 0., 0., 0.],\n",
       "       [0., 0., 0., 0., 0., 0.],\n",
       "       [0., 0., 0., 0., 0., 0.]])"
      ]
     },
     "execution_count": 27,
     "metadata": {},
     "output_type": "execute_result"
    }
   ],
   "source": [
    "np.zeros([4,6]) # 4 rows 6 Cols"
   ]
  },
  {
   "cell_type": "code",
   "execution_count": 49,
   "id": "7f986ca1",
   "metadata": {},
   "outputs": [
    {
     "data": {
      "text/plain": [
       "array([[1., 1., 1.],\n",
       "       [1., 1., 1.]])"
      ]
     },
     "execution_count": 49,
     "metadata": {},
     "output_type": "execute_result"
    }
   ],
   "source": [
    "np.ones((2,3))"
   ]
  },
  {
   "cell_type": "code",
   "execution_count": 50,
   "id": "99a49551",
   "metadata": {},
   "outputs": [
    {
     "data": {
      "text/plain": [
       "array([[0., 0., 0., 0., 0.],\n",
       "       [0., 0., 0., 0., 0.]])"
      ]
     },
     "execution_count": 50,
     "metadata": {},
     "output_type": "execute_result"
    }
   ],
   "source": [
    "# Get reverse of a boolean array\n",
    "1 - np.ones((2,5))"
   ]
  },
  {
   "cell_type": "markdown",
   "id": "40010f5f",
   "metadata": {},
   "source": [
    "### Linearly Spaced Arrays\n",
    "It generates linearly spaced array with Start and Stop limits "
   ]
  },
  {
   "cell_type": "code",
   "execution_count": 37,
   "id": "f724ea1b",
   "metadata": {},
   "outputs": [
    {
     "data": {
      "text/plain": [
       "array([ 1. ,  5.5, 10. ])"
      ]
     },
     "execution_count": 37,
     "metadata": {},
     "output_type": "execute_result"
    }
   ],
   "source": [
    "np.linspace(1,10,num=3)"
   ]
  },
  {
   "cell_type": "code",
   "execution_count": 36,
   "id": "d49e7866",
   "metadata": {},
   "outputs": [
    {
     "data": {
      "text/plain": [
       "array([0.        , 0.04166667, 0.08333333, 0.125     , 0.16666667,\n",
       "       0.20833333, 0.25      , 0.29166667, 0.33333333, 0.375     ,\n",
       "       0.41666667, 0.45833333, 0.5       , 0.54166667, 0.58333333,\n",
       "       0.625     , 0.66666667, 0.70833333, 0.75      , 0.79166667,\n",
       "       0.83333333, 0.875     , 0.91666667, 0.95833333, 1.        ])"
      ]
     },
     "execution_count": 36,
     "metadata": {},
     "output_type": "execute_result"
    }
   ],
   "source": [
    "np.linspace(0,1, num=25)"
   ]
  },
  {
   "cell_type": "markdown",
   "id": "257283c2",
   "metadata": {},
   "source": [
    "### Random Values"
   ]
  },
  {
   "cell_type": "code",
   "execution_count": 42,
   "id": "10eb7231",
   "metadata": {},
   "outputs": [
    {
     "data": {
      "text/plain": [
       "8"
      ]
     },
     "execution_count": 42,
     "metadata": {},
     "output_type": "execute_result"
    }
   ],
   "source": [
    "np.random.randint(1,10) # Generates random numbers between 1 to 9; 1 - inclusive, 10 - exclusive"
   ]
  },
  {
   "cell_type": "code",
   "execution_count": 46,
   "id": "0b7959f4",
   "metadata": {},
   "outputs": [
    {
     "name": "stdout",
     "output_type": "stream",
     "text": [
      "6\n",
      "7\n",
      "5\n",
      "7\n",
      "4\n",
      "9\n"
     ]
    }
   ],
   "source": [
    "i = 0\n",
    "while i != 9:\n",
    "    i = np.random.randint(1,10)\n",
    "    print(i)"
   ]
  },
  {
   "cell_type": "code",
   "execution_count": 4,
   "id": "b22a92c3",
   "metadata": {},
   "outputs": [
    {
     "data": {
      "text/plain": [
       "array([6, 8, 5])"
      ]
     },
     "execution_count": 4,
     "metadata": {},
     "output_type": "execute_result"
    }
   ],
   "source": [
    "np.random.randint(1, 10, 3) # Generate 3 random nos"
   ]
  },
  {
   "cell_type": "code",
   "execution_count": 48,
   "id": "265f4c5c",
   "metadata": {},
   "outputs": [
    {
     "data": {
      "text/plain": [
       "array([[16, 67, 63, 35, 34],\n",
       "       [42, 47, 92, 70, 75],\n",
       "       [89,  6, 71, 29, 90],\n",
       "       [73, 19,  4, 30, 96]])"
      ]
     },
     "execution_count": 48,
     "metadata": {},
     "output_type": "execute_result"
    }
   ],
   "source": [
    "np.random.randint(1,100, (4,5)) # Generate 4 x 5 Random Array"
   ]
  },
  {
   "cell_type": "code",
   "execution_count": 56,
   "id": "39656cc3",
   "metadata": {},
   "outputs": [
    {
     "name": "stdout",
     "output_type": "stream",
     "text": [
      "[[1 1 1]\n",
      " [0 0 0]\n",
      " [0 0 0]\n",
      " [0 1 0]\n",
      " [1 0 1]]\n",
      "\n",
      "Reversed\n",
      " [[0 0 0]\n",
      " [1 1 1]\n",
      " [1 1 1]\n",
      " [1 0 1]\n",
      " [0 1 0]]\n"
     ]
    }
   ],
   "source": [
    "r = np.random.randint(0,2,(5,3))\n",
    "print(r)\n",
    "print(\"\\nReversed\\n\", 1-r)"
   ]
  },
  {
   "cell_type": "code",
   "execution_count": 68,
   "id": "b2bc1f76",
   "metadata": {},
   "outputs": [
    {
     "data": {
      "text/plain": [
       "array([ 0.63137531, -0.78188766,  0.23324376, -2.04650688, -0.59897644,\n",
       "       -0.71393488, -0.55850461, -0.91903403, -0.310683  , -0.5136607 ])"
      ]
     },
     "execution_count": 68,
     "metadata": {},
     "output_type": "execute_result"
    }
   ],
   "source": [
    "# Random Samples from Gaussian Distribution\n",
    "np.random.normal(size=10)"
   ]
  },
  {
   "cell_type": "markdown",
   "id": "c438e914",
   "metadata": {},
   "source": [
    "### Set Random Seed\n",
    "Setting random seed sets same context across all random chosen values. Meaning using the same random seed gives same random values every time across all users.\n",
    "\n",
    "> __IMPORTANT :__ The scope of seed is within the same cell of Jupyter notebook."
   ]
  },
  {
   "cell_type": "code",
   "execution_count": 70,
   "id": "1c542149",
   "metadata": {},
   "outputs": [
    {
     "data": {
      "text/plain": [
       "array([95, 11, 81, 70, 63, 87, 75,  9, 77, 40])"
      ]
     },
     "execution_count": 70,
     "metadata": {},
     "output_type": "execute_result"
    }
   ],
   "source": [
    "# Set Random Seed\n",
    "np.random.seed(101)\n",
    "\n",
    "np.random.randint(0,100,10) # <-- This random output will be same always as long as using seed 101"
   ]
  },
  {
   "cell_type": "code",
   "execution_count": 75,
   "id": "5e95c15d",
   "metadata": {},
   "outputs": [
    {
     "data": {
      "text/plain": [
       "array([71, 15, 44,  0, 12, 17, 75, 79, 97, 93])"
      ]
     },
     "execution_count": 75,
     "metadata": {},
     "output_type": "execute_result"
    }
   ],
   "source": [
    "np.random.randint(0,100,10)"
   ]
  },
  {
   "cell_type": "markdown",
   "id": "3a728aa3",
   "metadata": {},
   "source": [
    "### Array Operations"
   ]
  },
  {
   "cell_type": "code",
   "execution_count": 85,
   "id": "9efc24aa",
   "metadata": {},
   "outputs": [
    {
     "name": "stdout",
     "output_type": "stream",
     "text": [
      "[71 71 84 56  2 77 54 17  4 42]\n",
      "\n",
      "Max \tof a1 84\n",
      "Min \tof a1 2\n",
      "Mean \tof a1 47.8\n",
      "\n",
      "Index \tof max of a1 2\n",
      "Index \tof min of a1 4\n"
     ]
    }
   ],
   "source": [
    "np.random.seed(985)\n",
    "\n",
    "a1 = np.random.randint(1,101,10)\n",
    "\n",
    "print(a1)\n",
    "print(f\"\\nMax \\tof a1 {a1.max()}\")\n",
    "print(f\"Min \\tof a1 {a1.min()}\")\n",
    "print(f\"Mean \\tof a1 {a1.mean()}\")\n",
    "print(f\"\\nIndex \\tof max of a1 {a1.argmax()}\")\n",
    "print(f\"Index \\tof min of a1 {a1.argmin()}\")"
   ]
  },
  {
   "cell_type": "code",
   "execution_count": 87,
   "id": "354df4bb",
   "metadata": {},
   "outputs": [
    {
     "data": {
      "text/plain": [
       "array([[71, 71],\n",
       "       [84, 56],\n",
       "       [ 2, 77],\n",
       "       [54, 17],\n",
       "       [ 4, 42]])"
      ]
     },
     "execution_count": 87,
     "metadata": {},
     "output_type": "execute_result"
    }
   ],
   "source": [
    "# Reshape\n",
    "\n",
    "a1.reshape((5,2))"
   ]
  },
  {
   "cell_type": "code",
   "execution_count": 91,
   "id": "8a02195a",
   "metadata": {},
   "outputs": [
    {
     "data": {
      "text/plain": [
       "array([[71, 71, 84, 56,  2],\n",
       "       [77, 54, 17,  4, 42]])"
      ]
     },
     "execution_count": 91,
     "metadata": {},
     "output_type": "execute_result"
    }
   ],
   "source": [
    "a1.reshape((2,5))"
   ]
  },
  {
   "cell_type": "code",
   "execution_count": 118,
   "id": "a6eb5b1f",
   "metadata": {},
   "outputs": [
    {
     "name": "stdout",
     "output_type": "stream",
     "text": [
      "[[ 0  1  2  3  4  5]\n",
      " [ 6  7  8  9 10 11]\n",
      " [12 13 14 15 16 17]\n",
      " [18 19 20 21 22 23]\n",
      " [24 25 26 27 28 29]]\n",
      "(5, 6)\n"
     ]
    }
   ],
   "source": [
    "mat = np.arange(0,30).reshape(5,6)\n",
    "print(mat)\n",
    "print(mat.shape)"
   ]
  },
  {
   "cell_type": "code",
   "execution_count": 119,
   "id": "763a92bb",
   "metadata": {},
   "outputs": [
    {
     "data": {
      "text/plain": [
       "7"
      ]
     },
     "execution_count": 119,
     "metadata": {},
     "output_type": "execute_result"
    }
   ],
   "source": [
    "# Select a cell in matrix\n",
    "\n",
    "mat[1,1] # <- mat[row_index, col_index]; index starts with 0"
   ]
  },
  {
   "cell_type": "markdown",
   "id": "fc8766ed",
   "metadata": {},
   "source": [
    "### Slice the array"
   ]
  },
  {
   "cell_type": "code",
   "execution_count": 120,
   "id": "a608c92e",
   "metadata": {},
   "outputs": [
    {
     "data": {
      "text/plain": [
       "array([ 1,  7, 13, 19, 25])"
      ]
     },
     "execution_count": 120,
     "metadata": {},
     "output_type": "execute_result"
    }
   ],
   "source": [
    "# Fetch all rows and 2nd Column\n",
    "mat[:,1]"
   ]
  },
  {
   "cell_type": "code",
   "execution_count": 122,
   "id": "e9ef9761",
   "metadata": {},
   "outputs": [
    {
     "data": {
      "text/plain": [
       "array([12, 13, 14, 15, 16, 17])"
      ]
     },
     "execution_count": 122,
     "metadata": {},
     "output_type": "execute_result"
    }
   ],
   "source": [
    "# Fetch 3rd row all columns\n",
    "mat[2,:]"
   ]
  },
  {
   "cell_type": "code",
   "execution_count": 124,
   "id": "7626cb4b",
   "metadata": {},
   "outputs": [
    {
     "name": "stdout",
     "output_type": "stream",
     "text": [
      "(6,)\n"
     ]
    }
   ],
   "source": [
    "print(mat[2,:].shape)"
   ]
  },
  {
   "cell_type": "code",
   "execution_count": 126,
   "id": "73cb1b5c",
   "metadata": {},
   "outputs": [
    {
     "data": {
      "text/plain": [
       "array([[ 0,  1,  2,  3],\n",
       "       [ 6,  7,  8,  9],\n",
       "       [12, 13, 14, 15]])"
      ]
     },
     "execution_count": 126,
     "metadata": {},
     "output_type": "execute_result"
    }
   ],
   "source": [
    "# Fetch 3 rows 4 cols\n",
    "mat[:3,:4]"
   ]
  },
  {
   "cell_type": "code",
   "execution_count": 22,
   "id": "4b5a8e3f",
   "metadata": {
    "scrolled": true
   },
   "outputs": [
    {
     "name": "stdout",
     "output_type": "stream",
     "text": [
      "(3, 5)\n",
      "\n",
      "\n",
      "[[ 0  1  2]\n",
      " [ 5  6  7]\n",
      " [10 11 12]]\n",
      "[[ 1  2  3]\n",
      " [ 6  7  8]\n",
      " [11 12 13]]\n",
      "[[ 2  3  4]\n",
      " [ 7  8  9]\n",
      " [12 13 14]]\n",
      "Total 3 matrics\n"
     ]
    }
   ],
   "source": [
    "# Slide thru matrix with window 3 x 3\n",
    "\n",
    "mat = np.arange(0,15).reshape(3,5)\n",
    "smat_size = 3\n",
    "\n",
    "print(mat.shape)\n",
    "print(\"\\n\")\n",
    "cnt = 0\n",
    "for i in range(0, mat.shape[0] - (smat_size - 1)):\n",
    "    for j in range(0, mat.shape[1] - (smat_size - 1)):\n",
    "        print(mat[i:i+smat_size, j:j+smat_size])\n",
    "        cnt += 1\n",
    "        \n",
    "print(f\"Total {cnt} matrics\") "
   ]
  },
  {
   "cell_type": "code",
   "execution_count": 12,
   "id": "63877f2d",
   "metadata": {},
   "outputs": [
    {
     "data": {
      "text/plain": [
       "1"
      ]
     },
     "execution_count": 12,
     "metadata": {},
     "output_type": "execute_result"
    }
   ],
   "source": [
    "mat.shape[0] % 3"
   ]
  },
  {
   "cell_type": "markdown",
   "id": "e58d1d58",
   "metadata": {},
   "source": [
    "### Masking"
   ]
  },
  {
   "cell_type": "code",
   "execution_count": 143,
   "id": "6dd63a92",
   "metadata": {},
   "outputs": [
    {
     "data": {
      "text/plain": [
       "array([[False, False, False, False, False],\n",
       "       [False, False, False, False, False],\n",
       "       [False, False, False, False, False],\n",
       "       [False,  True,  True,  True,  True],\n",
       "       [ True,  True,  True,  True,  True]])"
      ]
     },
     "execution_count": 143,
     "metadata": {},
     "output_type": "execute_result"
    }
   ],
   "source": [
    "mat = np.arange(0,25).reshape(5,5)\n",
    "mat > 15"
   ]
  },
  {
   "cell_type": "code",
   "execution_count": 144,
   "id": "4ca2119d",
   "metadata": {},
   "outputs": [
    {
     "data": {
      "text/plain": [
       "array([16, 17, 18, 19, 20, 21, 22, 23, 24])"
      ]
     },
     "execution_count": 144,
     "metadata": {},
     "output_type": "execute_result"
    }
   ],
   "source": [
    "mat[mat > 15]"
   ]
  }
 ],
 "metadata": {
  "kernelspec": {
   "display_name": "deep-modeling",
   "language": "python",
   "name": "deep-modeling"
  },
  "language_info": {
   "codemirror_mode": {
    "name": "ipython",
    "version": 3
   },
   "file_extension": ".py",
   "mimetype": "text/x-python",
   "name": "python",
   "nbconvert_exporter": "python",
   "pygments_lexer": "ipython3",
   "version": "3.9.4"
  }
 },
 "nbformat": 4,
 "nbformat_minor": 5
}
